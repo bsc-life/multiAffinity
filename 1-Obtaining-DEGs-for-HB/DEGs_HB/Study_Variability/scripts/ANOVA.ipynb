{
 "cells": [
  {
   "cell_type": "code",
   "execution_count": 23,
   "source": [
    "import os\n",
    "import pandas as pd\n",
    "import numpy as np\n",
    "\n",
    "#Load expression matrices and join\n",
    "# load all table files\n",
    "path_to_files = '/home/mar/Documents/TFM/GitHub/HB_PublicData/1-Obtaining-DEGs-for-HB/DEGs_HB/Study_Variability/output/'\n",
    "lst_expmat = []\n",
    "for filen in [x for x in os.listdir(path_to_files) if '.csv' in x]:\n",
    "    lst_expmat.append(pd.read_csv(path_to_files+filen, delimiter= \",\").set_index(['genes']))\n",
    "\n",
    "data = pd.concat(lst_expmat, axis=1, join='inner')\n",
    "data = data.reset_index()\n",
    "lfc = data[['log2FoldChange']]\n",
    "lfc.columns = ['A','B','C','D','E']"
   ],
   "outputs": [],
   "metadata": {}
  },
  {
   "cell_type": "code",
   "execution_count": 24,
   "source": [
    "lfc_melt = pd.melt(lfc.reset_index(), id_vars=['index'], value_vars=['A', 'B', 'C', 'D','E'])\n",
    "# replace column names\n",
    "lfc_melt.columns = ['index', 'studies', 'value']"
   ],
   "outputs": [],
   "metadata": {}
  },
  {
   "cell_type": "code",
   "execution_count": 25,
   "source": [
    "# generate a boxplot to see the data distribution by treatments. Using boxplot, we can \n",
    "# easily detect the differences between different treatments\n",
    "import matplotlib.pyplot as plt\n",
    "import seaborn as sns\n",
    "ax = sns.boxplot(x='studies', y='value', data=lfc_melt, color='#99c2a2')\n",
    "ax = sns.swarmplot(x=\"studies\", y=\"value\", data=lfc_melt, color='#7d0013')\n",
    "plt.show()"
   ],
   "outputs": [
    {
     "output_type": "display_data",
     "data": {
      "text/plain": [
       "<Figure size 432x288 with 1 Axes>"
      ],
      "image/png": "[encoded data removed]"
     },
     "metadata": {
      "needs_background": "light"
     }
    }
   ],
   "metadata": {}
  },
  {
   "cell_type": "code",
   "execution_count": 26,
   "source": [
    "import scipy.stats as stats\n",
    "# stats f_oneway functions takes the groups as input and returns ANOVA F and p value\n",
    "fvalue, pvalue = stats.f_oneway(lfc['A'], lfc['B'], lfc['C'], lfc['D'], lfc['E'])\n",
    "print(fvalue, pvalue)"
   ],
   "outputs": [
    {
     "output_type": "stream",
     "name": "stdout",
     "text": [
      "88.27099355365647 2.2766280272044683e-14\n"
     ]
    }
   ],
   "metadata": {}
  },
  {
   "cell_type": "code",
   "execution_count": 29,
   "source": [
    "# ANOVA table using bioinfokit v1.0.3 or later (it uses wrapper script for anova_lm)\n",
    "from bioinfokit.analys import stat\n",
    "res = stat()\n",
    "res.anova_stat(df=lfc_melt, res_var='value', anova_model='value ~ C(studies)')\n",
    "res.anova_summary"
   ],
   "outputs": [
    {
     "output_type": "execute_result",
     "data": {
      "text/plain": [
       "              df      sum_sq    mean_sq          F        PR(>F)\n",
       "C(studies)   4.0  347.221753  86.805438  88.270994  2.276628e-14\n",
       "Residual    25.0   24.584927   0.983397        NaN           NaN"
      ],
      "text/html": [
       "<div>\n",
       "<style scoped>\n",
       "    .dataframe tbody tr th:only-of-type {\n",
       "        vertical-align: middle;\n",
       "    }\n",
       "\n",
       "    .dataframe tbody tr th {\n",
       "        vertical-align: top;\n",
       "    }\n",
       "\n",
       "    .dataframe thead th {\n",
       "        text-align: right;\n",
       "    }\n",
       "</style>\n",
       "<table border=\"1\" class=\"dataframe\">\n",
       "  <thead>\n",
       "    <tr style=\"text-align: right;\">\n",
       "      <th></th>\n",
       "      <th>df</th>\n",
       "      <th>sum_sq</th>\n",
       "      <th>mean_sq</th>\n",
       "      <th>F</th>\n",
       "      <th>PR(&gt;F)</th>\n",
       "    </tr>\n",
       "  </thead>\n",
       "  <tbody>\n",
       "    <tr>\n",
       "      <th>C(studies)</th>\n",
       "      <td>4.0</td>\n",
       "      <td>347.221753</td>\n",
       "      <td>86.805438</td>\n",
       "      <td>88.270994</td>\n",
       "      <td>2.276628e-14</td>\n",
       "    </tr>\n",
       "    <tr>\n",
       "      <th>Residual</th>\n",
       "      <td>25.0</td>\n",
       "      <td>24.584927</td>\n",
       "      <td>0.983397</td>\n",
       "      <td>NaN</td>\n",
       "      <td>NaN</td>\n",
       "    </tr>\n",
       "  </tbody>\n",
       "</table>\n",
       "</div>"
      ]
     },
     "metadata": {},
     "execution_count": 29
    }
   ],
   "metadata": {}
  }
 ],
 "metadata": {
  "orig_nbformat": 4,
  "language_info": {
   "name": "python",
   "version": "3.8.6",
   "mimetype": "text/x-python",
   "codemirror_mode": {
    "name": "ipython",
    "version": 3
   },
   "pygments_lexer": "ipython3",
   "nbconvert_exporter": "python",
   "file_extension": ".py"
  },
  "kernelspec": {
   "name": "python3",
   "display_name": "Python 3.8.6 64-bit ('ml': conda)"
  },
  "interpreter": {
   "hash": "996a7b8479c7a2f75b6f839f81d9cd861a3b9da150126ad9ca5da88c64275624"
  }
 },
 "nbformat": 4,
 "nbformat_minor": 2
}