{
 "cells": [
  {
   "cell_type": "code",
   "execution_count": 8,
   "source": [
    "import os\n",
    "import pandas as pd\n",
    "import numpy as np\n",
    "\n",
    "#Load expression matrices and join\n",
    "# load all table files\n",
    "path_to_files = '/home/mar/Documents/TFM/GitHub/HB_PublicData/1-Obtaining-DEGs-for-HB/DEGs_HB/Study_Variability/output/'\n",
    "lst_expmat = []\n",
    "for filen in [x for x in os.listdir(path_to_files) if '.csv' in x]:\n",
    "    lst_expmat.append(pd.read_csv(path_to_files+filen, delimiter= \",\").set_index(['genes']))\n",
    "\n",
    "data = pd.concat(lst_expmat, axis=1, join='inner')\n",
    "data.index.tolist()"
   ],
   "outputs": [
    {
     "output_type": "error",
     "ename": "TypeError",
     "evalue": "'Index' object is not callable",
     "traceback": [
      "\u001b[0;31m---------------------------------------------------------------------------\u001b[0m",
      "\u001b[0;31mTypeError\u001b[0m                                 Traceback (most recent call last)",
      "\u001b[0;32m<ipython-input-8-c2b7d87c67ef>\u001b[0m in \u001b[0;36m<module>\u001b[0;34m\u001b[0m\n\u001b[1;32m     11\u001b[0m \u001b[0;34m\u001b[0m\u001b[0m\n\u001b[1;32m     12\u001b[0m \u001b[0mdata\u001b[0m \u001b[0;34m=\u001b[0m \u001b[0mpd\u001b[0m\u001b[0;34m.\u001b[0m\u001b[0mconcat\u001b[0m\u001b[0;34m(\u001b[0m\u001b[0mlst_expmat\u001b[0m\u001b[0;34m,\u001b[0m \u001b[0maxis\u001b[0m\u001b[0;34m=\u001b[0m\u001b[0;36m1\u001b[0m\u001b[0;34m,\u001b[0m \u001b[0mjoin\u001b[0m\u001b[0;34m=\u001b[0m\u001b[0;34m'inner'\u001b[0m\u001b[0;34m)\u001b[0m\u001b[0;34m\u001b[0m\u001b[0;34m\u001b[0m\u001b[0m\n\u001b[0;32m---> 13\u001b[0;31m \u001b[0mdata\u001b[0m\u001b[0;34m.\u001b[0m\u001b[0mindex\u001b[0m\u001b[0;34m(\u001b[0m\u001b[0;34m)\u001b[0m\u001b[0;34m\u001b[0m\u001b[0;34m\u001b[0m\u001b[0m\n\u001b[0m",
      "\u001b[0;31mTypeError\u001b[0m: 'Index' object is not callable"
     ]
    }
   ],
   "metadata": {}
  },
  {
   "cell_type": "code",
   "execution_count": null,
   "source": [
    "data = data.reset_index()"
   ],
   "outputs": [],
   "metadata": {}
  },
  {
   "cell_type": "markdown",
   "source": [
    "## LFC"
   ],
   "metadata": {}
  },
  {
   "cell_type": "code",
   "execution_count": 35,
   "source": [
    "lfc = data[['log2FoldChange']]\n",
    "lfc.columns = ['A','B','C','D','E']\n",
    "lfc_melt = pd.melt(lfc.reset_index(), id_vars=['index'], value_vars=['A', 'B', 'C', 'D','E'])\n",
    "# replace column names\n",
    "lfc_melt.columns = ['index', 'studies', 'value']\n",
    "# generate a boxplot to see the data distribution by treatments. Using boxplot, we can \n",
    "# easily detect the differences between different treatments\n",
    "import matplotlib.pyplot as plt\n",
    "import seaborn as sns\n",
    "ax = sns.boxplot(x='studies', y='value', data=lfc_melt, color='#99c2a2')\n",
    "ax = sns.swarmplot(x=\"studies\", y=\"value\", data=lfc_melt, color='#7d0013')\n",
    "plt.show()"
   ],
   "outputs": [
    {
     "output_type": "display_data",
     "data": {
      "text/plain": [
       "<Figure size 432x288 with 1 Axes>"
      ],
      "image/png": "[encoded data removed]"
     },
     "metadata": {
      "needs_background": "light"
     }
    }
   ],
   "metadata": {}
  },
  {
   "cell_type": "code",
   "execution_count": 36,
   "source": [
    "import scipy.stats as stats\n",
    "# stats f_oneway functions takes the groups as input and returns ANOVA F and p value\n",
    "fvalue, pvalue = stats.f_oneway(lfc['A'], lfc['B'], lfc['C'], lfc['D'], lfc['E'])\n",
    "print(fvalue, pvalue)\n",
    "# ANOVA table using bioinfokit v1.0.3 or later (it uses wrapper script for anova_lm)\n",
    "from bioinfokit.analys import stat\n",
    "res = stat()\n",
    "res.anova_stat(df=lfc_melt, res_var='value', anova_model='value ~ C(studies)')\n",
    "res.anova_summary"
   ],
   "outputs": [
    {
     "output_type": "stream",
     "name": "stdout",
     "text": [
      "88.27099355365647 2.2766280272044683e-14\n"
     ]
    },
    {
     "output_type": "execute_result",
     "data": {
      "text/plain": [
       "              df      sum_sq    mean_sq          F        PR(>F)\n",
       "C(studies)   4.0  347.221753  86.805438  88.270994  2.276628e-14\n",
       "Residual    25.0   24.584927   0.983397        NaN           NaN"
      ],
      "text/html": [
       "<div>\n",
       "<style scoped>\n",
       "    .dataframe tbody tr th:only-of-type {\n",
       "        vertical-align: middle;\n",
       "    }\n",
       "\n",
       "    .dataframe tbody tr th {\n",
       "        vertical-align: top;\n",
       "    }\n",
       "\n",
       "    .dataframe thead th {\n",
       "        text-align: right;\n",
       "    }\n",
       "</style>\n",
       "<table border=\"1\" class=\"dataframe\">\n",
       "  <thead>\n",
       "    <tr style=\"text-align: right;\">\n",
       "      <th></th>\n",
       "      <th>df</th>\n",
       "      <th>sum_sq</th>\n",
       "      <th>mean_sq</th>\n",
       "      <th>F</th>\n",
       "      <th>PR(&gt;F)</th>\n",
       "    </tr>\n",
       "  </thead>\n",
       "  <tbody>\n",
       "    <tr>\n",
       "      <th>C(studies)</th>\n",
       "      <td>4.0</td>\n",
       "      <td>347.221753</td>\n",
       "      <td>86.805438</td>\n",
       "      <td>88.270994</td>\n",
       "      <td>2.276628e-14</td>\n",
       "    </tr>\n",
       "    <tr>\n",
       "      <th>Residual</th>\n",
       "      <td>25.0</td>\n",
       "      <td>24.584927</td>\n",
       "      <td>0.983397</td>\n",
       "      <td>NaN</td>\n",
       "      <td>NaN</td>\n",
       "    </tr>\n",
       "  </tbody>\n",
       "</table>\n",
       "</div>"
      ]
     },
     "metadata": {},
     "execution_count": 36
    }
   ],
   "metadata": {}
  },
  {
   "cell_type": "code",
   "execution_count": 37,
   "source": [
    "## T"
   ],
   "outputs": [],
   "metadata": {}
  },
  {
   "cell_type": "code",
   "execution_count": 40,
   "source": [
    "T = data[['T']]\n",
    "T.columns = ['A','B','C','D','E']\n",
    "T_melt = pd.melt(T.reset_index(), id_vars=['index'], value_vars=['A', 'B', 'C', 'D','E'])\n",
    "# replace column names\n",
    "T_melt.columns = ['index', 'studies', 'value']\n",
    "# generate a boxplot to see the data distribution by treatments. Using boxplot, we can \n",
    "# easily detect the differences between different treatments\n",
    "import matplotlib.pyplot as plt\n",
    "import seaborn as sns\n",
    "ax = sns.boxplot(x='studies', y='value', data=T_melt, color='#99c2a2')\n",
    "ax = sns.swarmplot(x=\"studies\", y=\"value\", data=T_melt, color='#7d0013')\n",
    "plt.show()"
   ],
   "outputs": [
    {
     "output_type": "display_data",
     "data": {
      "text/plain": [
       "<Figure size 432x288 with 1 Axes>"
      ],
      "image/png": "[encoded data removed]"
     },
     "metadata": {
      "needs_background": "light"
     }
    }
   ],
   "metadata": {}
  },
  {
   "cell_type": "code",
   "execution_count": 41,
   "source": [
    "import scipy.stats as stats\n",
    "# stats f_oneway functions takes the groups as input and returns ANOVA F and p value\n",
    "fvalue, pvalue = stats.f_oneway(T['A'], T['B'], T['C'], T['D'], T['E'])\n",
    "print(fvalue, pvalue)\n",
    "# ANOVA table using bioinfokit v1.0.3 or later (it uses wrapper script for anova_lm)\n",
    "from bioinfokit.analys import stat\n",
    "res = stat()\n",
    "res.anova_stat(df=T_melt, res_var='value', anova_model='value ~ C(studies)')\n",
    "res.anova_summary"
   ],
   "outputs": [
    {
     "output_type": "stream",
     "name": "stdout",
     "text": [
      "1.834985662674458 0.1536400253297564\n"
     ]
    },
    {
     "output_type": "execute_result",
     "data": {
      "text/plain": [
       "              df        sum_sq       mean_sq         F   PR(>F)\n",
       "C(studies)   4.0  1.918440e+07  4.796099e+06  1.834986  0.15364\n",
       "Residual    25.0  6.534246e+07  2.613698e+06       NaN      NaN"
      ],
      "text/html": [
       "<div>\n",
       "<style scoped>\n",
       "    .dataframe tbody tr th:only-of-type {\n",
       "        vertical-align: middle;\n",
       "    }\n",
       "\n",
       "    .dataframe tbody tr th {\n",
       "        vertical-align: top;\n",
       "    }\n",
       "\n",
       "    .dataframe thead th {\n",
       "        text-align: right;\n",
       "    }\n",
       "</style>\n",
       "<table border=\"1\" class=\"dataframe\">\n",
       "  <thead>\n",
       "    <tr style=\"text-align: right;\">\n",
       "      <th></th>\n",
       "      <th>df</th>\n",
       "      <th>sum_sq</th>\n",
       "      <th>mean_sq</th>\n",
       "      <th>F</th>\n",
       "      <th>PR(&gt;F)</th>\n",
       "    </tr>\n",
       "  </thead>\n",
       "  <tbody>\n",
       "    <tr>\n",
       "      <th>C(studies)</th>\n",
       "      <td>4.0</td>\n",
       "      <td>1.918440e+07</td>\n",
       "      <td>4.796099e+06</td>\n",
       "      <td>1.834986</td>\n",
       "      <td>0.15364</td>\n",
       "    </tr>\n",
       "    <tr>\n",
       "      <th>Residual</th>\n",
       "      <td>25.0</td>\n",
       "      <td>6.534246e+07</td>\n",
       "      <td>2.613698e+06</td>\n",
       "      <td>NaN</td>\n",
       "      <td>NaN</td>\n",
       "    </tr>\n",
       "  </tbody>\n",
       "</table>\n",
       "</div>"
      ]
     },
     "metadata": {},
     "execution_count": 41
    }
   ],
   "metadata": {}
  },
  {
   "cell_type": "markdown",
   "source": [
    "## T - NT"
   ],
   "metadata": {}
  },
  {
   "cell_type": "code",
   "execution_count": 47,
   "source": [
    "T_NT = data[['T_NT']]\n",
    "T_NT.columns = ['A','B','C','D','E']\n",
    "T_NT_melt = pd.melt(T.reset_index(), id_vars=['index'], value_vars=['A','B','C','D','E'])\n",
    "# replace column names\n",
    "T_NT_melt.columns = ['index', 'studies', 'value']\n",
    "# generate a boxplot to see the data distribution by treatments. Using boxplot, we can \n",
    "# easily detect the differences between different treatments\n",
    "import matplotlib.pyplot as plt\n",
    "import seaborn as sns\n",
    "ax = sns.boxplot(x='studies', y='value', data=T_NT_melt, color='#99c2a2')\n",
    "ax = sns.swarmplot(x=\"studies\", y=\"value\", data=T_NT_melt, color='#7d0013')\n",
    "plt.show()"
   ],
   "outputs": [
    {
     "output_type": "display_data",
     "data": {
      "text/plain": [
       "<Figure size 432x288 with 1 Axes>"
      ],
      "image/png": "[encoded data removed]"
     },
     "metadata": {
      "needs_background": "light"
     }
    }
   ],
   "metadata": {}
  },
  {
   "cell_type": "code",
   "execution_count": 48,
   "source": [
    "import scipy.stats as stats\n",
    "# stats f_oneway functions takes the groups as input and returns ANOVA F and p value\n",
    "fvalue, pvalue = stats.f_oneway(T_NT['A'], T_NT['B'], T_NT['C'], T_NT['D'], T_NT['E'])\n",
    "print(fvalue, pvalue)\n",
    "# ANOVA table using bioinfokit v1.0.3 or later (it uses wrapper script for anova_lm)\n",
    "from bioinfokit.analys import stat\n",
    "res = stat()\n",
    "res.anova_stat(df=T_NT_melt, res_var='value', anova_model='value ~ C(studies)')\n",
    "res.anova_summary"
   ],
   "outputs": [
    {
     "output_type": "stream",
     "name": "stdout",
     "text": [
      "3.683818658781469 0.01719792601377429\n"
     ]
    },
    {
     "output_type": "execute_result",
     "data": {
      "text/plain": [
       "              df        sum_sq       mean_sq         F    PR(>F)\n",
       "C(studies)   4.0  4.313797e+07  1.078449e+07  3.683819  0.017198\n",
       "Residual    25.0  7.318828e+07  2.927531e+06       NaN       NaN"
      ],
      "text/html": [
       "<div>\n",
       "<style scoped>\n",
       "    .dataframe tbody tr th:only-of-type {\n",
       "        vertical-align: middle;\n",
       "    }\n",
       "\n",
       "    .dataframe tbody tr th {\n",
       "        vertical-align: top;\n",
       "    }\n",
       "\n",
       "    .dataframe thead th {\n",
       "        text-align: right;\n",
       "    }\n",
       "</style>\n",
       "<table border=\"1\" class=\"dataframe\">\n",
       "  <thead>\n",
       "    <tr style=\"text-align: right;\">\n",
       "      <th></th>\n",
       "      <th>df</th>\n",
       "      <th>sum_sq</th>\n",
       "      <th>mean_sq</th>\n",
       "      <th>F</th>\n",
       "      <th>PR(&gt;F)</th>\n",
       "    </tr>\n",
       "  </thead>\n",
       "  <tbody>\n",
       "    <tr>\n",
       "      <th>C(studies)</th>\n",
       "      <td>4.0</td>\n",
       "      <td>4.313797e+07</td>\n",
       "      <td>1.078449e+07</td>\n",
       "      <td>3.683819</td>\n",
       "      <td>0.017198</td>\n",
       "    </tr>\n",
       "    <tr>\n",
       "      <th>Residual</th>\n",
       "      <td>25.0</td>\n",
       "      <td>7.318828e+07</td>\n",
       "      <td>2.927531e+06</td>\n",
       "      <td>NaN</td>\n",
       "      <td>NaN</td>\n",
       "    </tr>\n",
       "  </tbody>\n",
       "</table>\n",
       "</div>"
      ]
     },
     "metadata": {},
     "execution_count": 48
    }
   ],
   "metadata": {}
  }
 ],
 "metadata": {
  "orig_nbformat": 4,
  "language_info": {
   "name": "python",
   "version": "3.8.6",
   "mimetype": "text/x-python",
   "codemirror_mode": {
    "name": "ipython",
    "version": 3
   },
   "pygments_lexer": "ipython3",
   "nbconvert_exporter": "python",
   "file_extension": ".py"
  },
  "kernelspec": {
   "name": "python3",
   "display_name": "Python 3.8.6 64-bit ('ml': conda)"
  },
  "interpreter": {
   "hash": "996a7b8479c7a2f75b6f839f81d9cd861a3b9da150126ad9ca5da88c64275624"
  }
 },
 "nbformat": 4,
 "nbformat_minor": 2
}