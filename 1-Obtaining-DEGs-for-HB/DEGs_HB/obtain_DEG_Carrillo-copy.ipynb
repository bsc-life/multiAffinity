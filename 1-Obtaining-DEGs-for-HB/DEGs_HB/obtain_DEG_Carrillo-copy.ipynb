{
 "metadata": {
  "language_info": {
   "codemirror_mode": {
    "name": "ipython",
    "version": 3
   },
   "file_extension": ".py",
   "mimetype": "text/x-python",
   "name": "python",
   "nbconvert_exporter": "python",
   "pygments_lexer": "ipython3",
   "version": "3.8.6"
  },
  "orig_nbformat": 2,
  "kernelspec": {
   "name": "python38664bitmlconda7b4ac6cde5954b3f8d48cd22e79fbecd",
   "display_name": "Python 3.8.6 64-bit ('ml': conda)"
  },
  "metadata": {
   "interpreter": {
    "hash": "996a7b8479c7a2f75b6f839f81d9cd861a3b9da150126ad9ca5da88c64275624"
   }
  }
 },
 "nbformat": 4,
 "nbformat_minor": 2,
 "cells": [
  {
   "cell_type": "code",
   "execution_count": 1,
   "metadata": {},
   "outputs": [],
   "source": [
    "import numpy as np\n",
    "import pandas as pd\n",
    "from scipy import stats\n",
    "import statsmodels.stats.multitest as multi\n",
    "from tqdm import tqdm"
   ]
  },
  {
   "cell_type": "code",
   "execution_count": 7,
   "metadata": {},
   "outputs": [],
   "source": [
    "metadata_dict = {}\n",
    "metadata = pd.read_csv('/home/mar/Documents/TFM/GitHub/HB_PublicData/1-Obtaining-DEGs-for-HB/Metadata_HB/HB_joint_METADATA.tsv',sep='\\t')\n",
    "lst = []\n",
    "for i in metadata['type']:\n",
    "    if str(i).startswith('Hepatoblastoma'):\n",
    "        lst.append('case')\n",
    "    elif str(i).startswith('Normal'):\n",
    "        lst.append('control')\n",
    "    else:\n",
    "        lst.append('other')\n",
    "metadata['class'] = lst\n",
    "metadata_dict = pd.Series(metadata['class'].values,index=metadata['sample']).to_dict()\n"
   ]
  },
  {
   "cell_type": "code",
   "execution_count": 9,
   "metadata": {},
   "outputs": [
    {
     "output_type": "execute_result",
     "data": {
      "text/plain": [
       "           HB10NT    HB11NT     HB13NT    HB14NT     HB1NT    HB16NT  \\\n",
       "Gene                                                                   \n",
       "AMDHD1   5.877091  7.434907   8.140415  7.162385  7.512613  8.130875   \n",
       "ANGPTL6  4.266450  4.109980   4.480419  4.206414  3.906074  4.680423   \n",
       "CCDC50   6.654351  6.522819   6.729777  6.814082  6.876634  6.662568   \n",
       "CFI      9.127665  9.463506  10.283812  9.639721  9.894176  9.387165   \n",
       "CGREF1   0.969393  1.700824   1.280934  1.037333  1.115303  2.482406   \n",
       "\n",
       "           HB17NT    HB45NT    HB76NT    HB77NT  ...  MABHB73T  MABHB80T  \\\n",
       "Gene                                             ...                       \n",
       "AMDHD1   6.521973  6.254472  6.259856  7.117445  ...  5.648395  4.991604   \n",
       "ANGPTL6  4.037238  3.363358  3.772616  4.568131  ...  0.450849 -0.273450   \n",
       "CCDC50   7.103469  8.185944  7.793411  7.418240  ...  6.680109  6.129098   \n",
       "CFI      9.249945  9.842175  9.354646  9.899805  ...  7.453105  8.664987   \n",
       "CGREF1   1.481028  2.403946  4.351898  2.510797  ...  5.187645  3.913090   \n",
       "\n",
       "         MABHB225T  MABHB238T  MABHB233T  MABHB235T      HB5T  MABHB236T  \\\n",
       "Gene                                                                       \n",
       "AMDHD1    5.282936   5.593223   3.126332   3.877451  4.100993   5.511044   \n",
       "ANGPTL6  -1.562796  -2.595718  -1.335339  -1.780055 -1.089576  -3.862953   \n",
       "CCDC50    6.067138   5.720340   6.748458   6.004517  6.674247   6.501997   \n",
       "CFI       8.928759   4.364616   7.928600   7.605187  7.503656   6.040356   \n",
       "CGREF1    2.956020   6.436723   4.445699   5.134513  4.377009   4.223685   \n",
       "\n",
       "         MABHB239T  MABHB252T  \n",
       "Gene                           \n",
       "AMDHD1    3.856974   6.928588  \n",
       "ANGPTL6  -2.914041  -3.250376  \n",
       "CCDC50    5.378468   6.377879  \n",
       "CFI       5.635353   8.099088  \n",
       "CGREF1    3.774045   3.726993  \n",
       "\n",
       "[5 rows x 64 columns]"
      ],
      "text/html": "<div>\n<style scoped>\n    .dataframe tbody tr th:only-of-type {\n        vertical-align: middle;\n    }\n\n    .dataframe tbody tr th {\n        vertical-align: top;\n    }\n\n    .dataframe thead th {\n        text-align: right;\n    }\n</style>\n<table border=\"1\" class=\"dataframe\">\n  <thead>\n    <tr style=\"text-align: right;\">\n      <th></th>\n      <th>HB10NT</th>\n      <th>HB11NT</th>\n      <th>HB13NT</th>\n      <th>HB14NT</th>\n      <th>HB1NT</th>\n      <th>HB16NT</th>\n      <th>HB17NT</th>\n      <th>HB45NT</th>\n      <th>HB76NT</th>\n      <th>HB77NT</th>\n      <th>...</th>\n      <th>MABHB73T</th>\n      <th>MABHB80T</th>\n      <th>MABHB225T</th>\n      <th>MABHB238T</th>\n      <th>MABHB233T</th>\n      <th>MABHB235T</th>\n      <th>HB5T</th>\n      <th>MABHB236T</th>\n      <th>MABHB239T</th>\n      <th>MABHB252T</th>\n    </tr>\n    <tr>\n      <th>Gene</th>\n      <th></th>\n      <th></th>\n      <th></th>\n      <th></th>\n      <th></th>\n      <th></th>\n      <th></th>\n      <th></th>\n      <th></th>\n      <th></th>\n      <th></th>\n      <th></th>\n      <th></th>\n      <th></th>\n      <th></th>\n      <th></th>\n      <th></th>\n      <th></th>\n      <th></th>\n      <th></th>\n      <th></th>\n    </tr>\n  </thead>\n  <tbody>\n    <tr>\n      <th>AMDHD1</th>\n      <td>5.877091</td>\n      <td>7.434907</td>\n      <td>8.140415</td>\n      <td>7.162385</td>\n      <td>7.512613</td>\n      <td>8.130875</td>\n      <td>6.521973</td>\n      <td>6.254472</td>\n      <td>6.259856</td>\n      <td>7.117445</td>\n      <td>...</td>\n      <td>5.648395</td>\n      <td>4.991604</td>\n      <td>5.282936</td>\n      <td>5.593223</td>\n      <td>3.126332</td>\n      <td>3.877451</td>\n      <td>4.100993</td>\n      <td>5.511044</td>\n      <td>3.856974</td>\n      <td>6.928588</td>\n    </tr>\n    <tr>\n      <th>ANGPTL6</th>\n      <td>4.266450</td>\n      <td>4.109980</td>\n      <td>4.480419</td>\n      <td>4.206414</td>\n      <td>3.906074</td>\n      <td>4.680423</td>\n      <td>4.037238</td>\n      <td>3.363358</td>\n      <td>3.772616</td>\n      <td>4.568131</td>\n      <td>...</td>\n      <td>0.450849</td>\n      <td>-0.273450</td>\n      <td>-1.562796</td>\n      <td>-2.595718</td>\n      <td>-1.335339</td>\n      <td>-1.780055</td>\n      <td>-1.089576</td>\n      <td>-3.862953</td>\n      <td>-2.914041</td>\n      <td>-3.250376</td>\n    </tr>\n    <tr>\n      <th>CCDC50</th>\n      <td>6.654351</td>\n      <td>6.522819</td>\n      <td>6.729777</td>\n      <td>6.814082</td>\n      <td>6.876634</td>\n      <td>6.662568</td>\n      <td>7.103469</td>\n      <td>8.185944</td>\n      <td>7.793411</td>\n      <td>7.418240</td>\n      <td>...</td>\n      <td>6.680109</td>\n      <td>6.129098</td>\n      <td>6.067138</td>\n      <td>5.720340</td>\n      <td>6.748458</td>\n      <td>6.004517</td>\n      <td>6.674247</td>\n      <td>6.501997</td>\n      <td>5.378468</td>\n      <td>6.377879</td>\n    </tr>\n    <tr>\n      <th>CFI</th>\n      <td>9.127665</td>\n      <td>9.463506</td>\n      <td>10.283812</td>\n      <td>9.639721</td>\n      <td>9.894176</td>\n      <td>9.387165</td>\n      <td>9.249945</td>\n      <td>9.842175</td>\n      <td>9.354646</td>\n      <td>9.899805</td>\n      <td>...</td>\n      <td>7.453105</td>\n      <td>8.664987</td>\n      <td>8.928759</td>\n      <td>4.364616</td>\n      <td>7.928600</td>\n      <td>7.605187</td>\n      <td>7.503656</td>\n      <td>6.040356</td>\n      <td>5.635353</td>\n      <td>8.099088</td>\n    </tr>\n    <tr>\n      <th>CGREF1</th>\n      <td>0.969393</td>\n      <td>1.700824</td>\n      <td>1.280934</td>\n      <td>1.037333</td>\n      <td>1.115303</td>\n      <td>2.482406</td>\n      <td>1.481028</td>\n      <td>2.403946</td>\n      <td>4.351898</td>\n      <td>2.510797</td>\n      <td>...</td>\n      <td>5.187645</td>\n      <td>3.913090</td>\n      <td>2.956020</td>\n      <td>6.436723</td>\n      <td>4.445699</td>\n      <td>5.134513</td>\n      <td>4.377009</td>\n      <td>4.223685</td>\n      <td>3.774045</td>\n      <td>3.726993</td>\n    </tr>\n  </tbody>\n</table>\n<p>5 rows × 64 columns</p>\n</div>"
     },
     "metadata": {},
     "execution_count": 9
    }
   ],
   "source": [
    "Carrillo_path = '/home/mar/Documents/TFM/GitHub/HB_PublicData/1-Obtaining-DEGs-for-HB/Matrices_HB/Originals_HB/Carrillo-Reixach_RNAseq_log2.xlsx'\n",
    "data = pd.read_excel(Carrillo_path, index_col=0)\n",
    "data.head()"
   ]
  },
  {
   "cell_type": "code",
   "execution_count": 8,
   "metadata": {},
   "outputs": [
    {
     "output_type": "execute_result",
     "data": {
      "text/plain": [
       "              NaN       NaN        NaN       NaN       NaN       NaN  \\\n",
       "gene                                                                   \n",
       "AMDHD1   5.877091  7.434907   8.140415  7.162385  7.512613  8.130875   \n",
       "ANGPTL6  4.266450  4.109980   4.480419  4.206414  3.906074  4.680423   \n",
       "CCDC50   6.654351  6.522819   6.729777  6.814082  6.876634  6.662568   \n",
       "CFI      9.127665  9.463506  10.283812  9.639721  9.894176  9.387165   \n",
       "CGREF1   0.969393  1.700824   1.280934  1.037333  1.115303  2.482406   \n",
       "\n",
       "              NaN       NaN       NaN       NaN  ...       NaN       NaN  \\\n",
       "gene                                             ...                       \n",
       "AMDHD1   6.521973  6.254472  6.259856  7.117445  ...  5.648395  4.991604   \n",
       "ANGPTL6  4.037238  3.363358  3.772616  4.568131  ...  0.450849 -0.273450   \n",
       "CCDC50   7.103469  8.185944  7.793411  7.418240  ...  6.680109  6.129098   \n",
       "CFI      9.249945  9.842175  9.354646  9.899805  ...  7.453105  8.664987   \n",
       "CGREF1   1.481028  2.403946  4.351898  2.510797  ...  5.187645  3.913090   \n",
       "\n",
       "              NaN       NaN       NaN       NaN       NaN       NaN       NaN  \\\n",
       "gene                                                                            \n",
       "AMDHD1   5.282936  5.593223  3.126332  3.877451  4.100993  5.511044  3.856974   \n",
       "ANGPTL6 -1.562796 -2.595718 -1.335339 -1.780055 -1.089576 -3.862953 -2.914041   \n",
       "CCDC50   6.067138  5.720340  6.748458  6.004517  6.674247  6.501997  5.378468   \n",
       "CFI      8.928759  4.364616  7.928600  7.605187  7.503656  6.040356  5.635353   \n",
       "CGREF1   2.956020  6.436723  4.445699  5.134513  4.377009  4.223685  3.774045   \n",
       "\n",
       "              NaN  \n",
       "gene               \n",
       "AMDHD1   6.928588  \n",
       "ANGPTL6 -3.250376  \n",
       "CCDC50   6.377879  \n",
       "CFI      8.099088  \n",
       "CGREF1   3.726993  \n",
       "\n",
       "[5 rows x 64 columns]"
      ],
      "text/html": "<div>\n<style scoped>\n    .dataframe tbody tr th:only-of-type {\n        vertical-align: middle;\n    }\n\n    .dataframe tbody tr th {\n        vertical-align: top;\n    }\n\n    .dataframe thead th {\n        text-align: right;\n    }\n</style>\n<table border=\"1\" class=\"dataframe\">\n  <thead>\n    <tr style=\"text-align: right;\">\n      <th></th>\n      <th>NaN</th>\n      <th>NaN</th>\n      <th>NaN</th>\n      <th>NaN</th>\n      <th>NaN</th>\n      <th>NaN</th>\n      <th>NaN</th>\n      <th>NaN</th>\n      <th>NaN</th>\n      <th>NaN</th>\n      <th>...</th>\n      <th>NaN</th>\n      <th>NaN</th>\n      <th>NaN</th>\n      <th>NaN</th>\n      <th>NaN</th>\n      <th>NaN</th>\n      <th>NaN</th>\n      <th>NaN</th>\n      <th>NaN</th>\n      <th>NaN</th>\n    </tr>\n    <tr>\n      <th>gene</th>\n      <th></th>\n      <th></th>\n      <th></th>\n      <th></th>\n      <th></th>\n      <th></th>\n      <th></th>\n      <th></th>\n      <th></th>\n      <th></th>\n      <th></th>\n      <th></th>\n      <th></th>\n      <th></th>\n      <th></th>\n      <th></th>\n      <th></th>\n      <th></th>\n      <th></th>\n      <th></th>\n      <th></th>\n    </tr>\n  </thead>\n  <tbody>\n    <tr>\n      <th>AMDHD1</th>\n      <td>5.877091</td>\n      <td>7.434907</td>\n      <td>8.140415</td>\n      <td>7.162385</td>\n      <td>7.512613</td>\n      <td>8.130875</td>\n      <td>6.521973</td>\n      <td>6.254472</td>\n      <td>6.259856</td>\n      <td>7.117445</td>\n      <td>...</td>\n      <td>5.648395</td>\n      <td>4.991604</td>\n      <td>5.282936</td>\n      <td>5.593223</td>\n      <td>3.126332</td>\n      <td>3.877451</td>\n      <td>4.100993</td>\n      <td>5.511044</td>\n      <td>3.856974</td>\n      <td>6.928588</td>\n    </tr>\n    <tr>\n      <th>ANGPTL6</th>\n      <td>4.266450</td>\n      <td>4.109980</td>\n      <td>4.480419</td>\n      <td>4.206414</td>\n      <td>3.906074</td>\n      <td>4.680423</td>\n      <td>4.037238</td>\n      <td>3.363358</td>\n      <td>3.772616</td>\n      <td>4.568131</td>\n      <td>...</td>\n      <td>0.450849</td>\n      <td>-0.273450</td>\n      <td>-1.562796</td>\n      <td>-2.595718</td>\n      <td>-1.335339</td>\n      <td>-1.780055</td>\n      <td>-1.089576</td>\n      <td>-3.862953</td>\n      <td>-2.914041</td>\n      <td>-3.250376</td>\n    </tr>\n    <tr>\n      <th>CCDC50</th>\n      <td>6.654351</td>\n      <td>6.522819</td>\n      <td>6.729777</td>\n      <td>6.814082</td>\n      <td>6.876634</td>\n      <td>6.662568</td>\n      <td>7.103469</td>\n      <td>8.185944</td>\n      <td>7.793411</td>\n      <td>7.418240</td>\n      <td>...</td>\n      <td>6.680109</td>\n      <td>6.129098</td>\n      <td>6.067138</td>\n      <td>5.720340</td>\n      <td>6.748458</td>\n      <td>6.004517</td>\n      <td>6.674247</td>\n      <td>6.501997</td>\n      <td>5.378468</td>\n      <td>6.377879</td>\n    </tr>\n    <tr>\n      <th>CFI</th>\n      <td>9.127665</td>\n      <td>9.463506</td>\n      <td>10.283812</td>\n      <td>9.639721</td>\n      <td>9.894176</td>\n      <td>9.387165</td>\n      <td>9.249945</td>\n      <td>9.842175</td>\n      <td>9.354646</td>\n      <td>9.899805</td>\n      <td>...</td>\n      <td>7.453105</td>\n      <td>8.664987</td>\n      <td>8.928759</td>\n      <td>4.364616</td>\n      <td>7.928600</td>\n      <td>7.605187</td>\n      <td>7.503656</td>\n      <td>6.040356</td>\n      <td>5.635353</td>\n      <td>8.099088</td>\n    </tr>\n    <tr>\n      <th>CGREF1</th>\n      <td>0.969393</td>\n      <td>1.700824</td>\n      <td>1.280934</td>\n      <td>1.037333</td>\n      <td>1.115303</td>\n      <td>2.482406</td>\n      <td>1.481028</td>\n      <td>2.403946</td>\n      <td>4.351898</td>\n      <td>2.510797</td>\n      <td>...</td>\n      <td>5.187645</td>\n      <td>3.913090</td>\n      <td>2.956020</td>\n      <td>6.436723</td>\n      <td>4.445699</td>\n      <td>5.134513</td>\n      <td>4.377009</td>\n      <td>4.223685</td>\n      <td>3.774045</td>\n      <td>3.726993</td>\n    </tr>\n  </tbody>\n</table>\n<p>5 rows × 64 columns</p>\n</div>"
     },
     "metadata": {},
     "execution_count": 8
    }
   ],
   "source": [
    "data.head()\n",
    "data.columns = data.columns.map(metadata_dict)\n",
    "data = data.rename_axis('gene')"
   ]
  },
  {
   "cell_type": "code",
   "execution_count": null,
   "metadata": {},
   "outputs": [],
   "source": []
  }
 ]
}