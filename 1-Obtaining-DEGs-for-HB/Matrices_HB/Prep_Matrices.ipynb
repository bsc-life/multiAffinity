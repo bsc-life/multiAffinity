{
 "cells": [
  {
   "cell_type": "code",
   "execution_count": 1,
   "id": "comic-stage",
   "metadata": {},
   "outputs": [],
   "source": [
    "import numpy as np\n",
    "import pandas as pd\n",
    "from tqdm import tqdm\n",
    "import sys\n",
    "import mygene"
   ]
  },
  {
   "cell_type": "markdown",
   "id": "concrete-engineer",
   "metadata": {},
   "source": [
    "## Ranganathan (2016) - GSE89775"
   ]
  },
  {
   "cell_type": "code",
   "execution_count": 2,
   "id": "close-hawaiian",
   "metadata": {},
   "outputs": [],
   "source": [
    "GSE89775_path = '/home/mar/Documents/TFM/June/Task1_v4/Matrices_HB/Originals_HB/GSE89775_GeneLevel_Normalized.csv'\n",
    "GSE89775 = pd.read_csv(GSE89775_path,sep=',', index_col=0)"
   ]
  },
  {
   "cell_type": "code",
   "execution_count": 3,
   "id": "vanilla-garbage",
   "metadata": {},
   "outputs": [],
   "source": [
    "#corregir genes con nombre de gen\n",
    "GSE89775 = GSE89775.rename(index={'1-Ago':'AGO1',\n",
    "                        '2-Ago':'AGO2',\n",
    "                        '3-Ago':'AGO3',\n",
    "                        '4-Ago':'AGO4',\n",
    "                        '1-Mar':'MARCHF1',\n",
    "                        '1-Mar':'MARCHF1',\n",
    "                        '2-Mar':'MARCHF2',\n",
    "                        '2-Mar':'MARCHF2',\n",
    "                        '3-Mar':'MARCHF3',\n",
    "                        '4-Mar':'MARCHF4',\n",
    "                        '5-Mar':'MARCHF5',\n",
    "                        '6-Mar':'MARCHF6',\n",
    "                        '7-Mar':'MARCHF7',\n",
    "                        '8-Mar':'MARCHF8',\n",
    "                        '9-Mar':'MARCHF9',\n",
    "                        '10-Mar':'MARCHF10',\n",
    "                        '11-Mar':'MARCHF11',\n",
    "                        '1-Sep':'SEPTIN1',\n",
    "                        '2-Sep':'SEPTIN2',\n",
    "                        '3-Sep':'SEPTIN3',\n",
    "                        '4-Sep':'SEPTIN4',\n",
    "                        '5-Sep':'SEPTIN5',\n",
    "                        '6-Sep':'SEPTIN6',\n",
    "                        '7-Sep':'SEPTIN7',\n",
    "                        '8-Sep':'SEPTIN8',\n",
    "                        '9-Sep':'SEPTIN9',\n",
    "                        '10-Sep':'SEPTIN10',\n",
    "                        '11-Sep':'SEPTIN11',\n",
    "                        '12-Sep':'SEPTIN12',\n",
    "                        '14-Sep':'SEPTIN14',\n",
    "                        '15-Sep':'SEPTIN15',\n",
    "                        '1-Dec':'BHLHE40'})"
   ]
  },
  {
   "cell_type": "code",
   "execution_count": 4,
   "id": "eight-staff",
   "metadata": {},
   "outputs": [],
   "source": [
    "# group gene values using the mean values\n",
    "GSE89775 = GSE89775.groupby(GSE89775.index).mean()"
   ]
  },
  {
   "cell_type": "code",
   "execution_count": 6,
   "id": "lightweight-sandwich",
   "metadata": {},
   "outputs": [],
   "source": [
    "# export edited original matrix\n",
    "# GSE89775.to_csv('Originals_HB/GSE89775_hepato_norm_counts_edited.txt',sep=';',index=True)\n",
    "GSE89775 = GSE89775.rename_axis('gene')"
   ]
  },
  {
   "cell_type": "code",
   "execution_count": 7,
   "id": "suspected-feedback",
   "metadata": {},
   "outputs": [
    {
     "output_type": "execute_result",
     "data": {
      "text/plain": [
       "          GSM2388498  GSM2388499  GSM2388500  GSM2388501  GSM2388502  \\\n",
       "gene                                                                   \n",
       "A1BG        74.53173    52.28544     4.43133     0.10047    27.08854   \n",
       "A1BG-AS1     0.00000     0.00000     0.00000     0.20094     0.79672   \n",
       "A1CF       283.19211   422.66949    16.24823     0.10047     0.53115   \n",
       "A2M       7498.68823  2938.02617  2845.37141   479.04307   398.36088   \n",
       "A2M-AS1      0.00000     0.00000     0.11362     2.91364     0.26557   \n",
       "\n",
       "          GSM2388503  GSM2388504  GSM2388505  GSM2388506  GSM2388507  \\\n",
       "gene                                                                   \n",
       "A1BG        10.06288  1223.93276    43.50328   103.15652   361.40716   \n",
       "A1BG-AS1     0.00000     0.36813     0.00000     0.00000     1.63053   \n",
       "A1CF        32.97714   343.83132     9.13159   614.03524   259.41746   \n",
       "A2M       2748.49912  3013.58585   151.44067  3216.59191   799.44927   \n",
       "A2M-AS1      5.69826     0.09203     0.10260     0.17514     0.00000   \n",
       "\n",
       "          GSM2388508  GSM2388509  GSM2388510  \n",
       "gene                                          \n",
       "A1BG       399.83809   209.60250    36.93455  \n",
       "A1BG-AS1     0.31784     0.24572     1.15420  \n",
       "A1CF       205.16335   100.50108    97.81884  \n",
       "A2M       3061.71730  1523.36540   463.99026  \n",
       "A2M-AS1      0.00000     0.00000     0.28855  "
      ],
      "text/html": "<div>\n<style scoped>\n    .dataframe tbody tr th:only-of-type {\n        vertical-align: middle;\n    }\n\n    .dataframe tbody tr th {\n        vertical-align: top;\n    }\n\n    .dataframe thead th {\n        text-align: right;\n    }\n</style>\n<table border=\"1\" class=\"dataframe\">\n  <thead>\n    <tr style=\"text-align: right;\">\n      <th></th>\n      <th>GSM2388498</th>\n      <th>GSM2388499</th>\n      <th>GSM2388500</th>\n      <th>GSM2388501</th>\n      <th>GSM2388502</th>\n      <th>GSM2388503</th>\n      <th>GSM2388504</th>\n      <th>GSM2388505</th>\n      <th>GSM2388506</th>\n      <th>GSM2388507</th>\n      <th>GSM2388508</th>\n      <th>GSM2388509</th>\n      <th>GSM2388510</th>\n    </tr>\n    <tr>\n      <th>gene</th>\n      <th></th>\n      <th></th>\n      <th></th>\n      <th></th>\n      <th></th>\n      <th></th>\n      <th></th>\n      <th></th>\n      <th></th>\n      <th></th>\n      <th></th>\n      <th></th>\n      <th></th>\n    </tr>\n  </thead>\n  <tbody>\n    <tr>\n      <th>A1BG</th>\n      <td>74.53173</td>\n      <td>52.28544</td>\n      <td>4.43133</td>\n      <td>0.10047</td>\n      <td>27.08854</td>\n      <td>10.06288</td>\n      <td>1223.93276</td>\n      <td>43.50328</td>\n      <td>103.15652</td>\n      <td>361.40716</td>\n      <td>399.83809</td>\n      <td>209.60250</td>\n      <td>36.93455</td>\n    </tr>\n    <tr>\n      <th>A1BG-AS1</th>\n      <td>0.00000</td>\n      <td>0.00000</td>\n      <td>0.00000</td>\n      <td>0.20094</td>\n      <td>0.79672</td>\n      <td>0.00000</td>\n      <td>0.36813</td>\n      <td>0.00000</td>\n      <td>0.00000</td>\n      <td>1.63053</td>\n      <td>0.31784</td>\n      <td>0.24572</td>\n      <td>1.15420</td>\n    </tr>\n    <tr>\n      <th>A1CF</th>\n      <td>283.19211</td>\n      <td>422.66949</td>\n      <td>16.24823</td>\n      <td>0.10047</td>\n      <td>0.53115</td>\n      <td>32.97714</td>\n      <td>343.83132</td>\n      <td>9.13159</td>\n      <td>614.03524</td>\n      <td>259.41746</td>\n      <td>205.16335</td>\n      <td>100.50108</td>\n      <td>97.81884</td>\n    </tr>\n    <tr>\n      <th>A2M</th>\n      <td>7498.68823</td>\n      <td>2938.02617</td>\n      <td>2845.37141</td>\n      <td>479.04307</td>\n      <td>398.36088</td>\n      <td>2748.49912</td>\n      <td>3013.58585</td>\n      <td>151.44067</td>\n      <td>3216.59191</td>\n      <td>799.44927</td>\n      <td>3061.71730</td>\n      <td>1523.36540</td>\n      <td>463.99026</td>\n    </tr>\n    <tr>\n      <th>A2M-AS1</th>\n      <td>0.00000</td>\n      <td>0.00000</td>\n      <td>0.11362</td>\n      <td>2.91364</td>\n      <td>0.26557</td>\n      <td>5.69826</td>\n      <td>0.09203</td>\n      <td>0.10260</td>\n      <td>0.17514</td>\n      <td>0.00000</td>\n      <td>0.00000</td>\n      <td>0.00000</td>\n      <td>0.28855</td>\n    </tr>\n  </tbody>\n</table>\n</div>"
     },
     "metadata": {},
     "execution_count": 7
    }
   ],
   "source": [
    "GSE89775.head()\n",
    "# export matrix for this project\n",
    "#GSE89775.to_csv('Matrices_HB/GSE89775_matrix.txt', sep=\";\",index=True)"
   ]
  },
  {
   "cell_type": "markdown",
   "id": "fuzzy-admission",
   "metadata": {},
   "source": [
    "## Hooks (2018) - GSE104766"
   ]
  },
  {
   "cell_type": "code",
   "execution_count": 8,
   "id": "retained-mortality",
   "metadata": {},
   "outputs": [],
   "source": [
    "GSE104766_path = '/home/mar/Documents/TFM/June/Task1_v4/Matrices_HB/Originals_HB/GSE104766_GeneLevel_Normalized.csv'\n",
    "GSE104766 = pd.read_csv(GSE104766_path,sep=',', index_col=0)"
   ]
  },
  {
   "cell_type": "code",
   "execution_count": 9,
   "id": "strategic-organizer",
   "metadata": {},
   "outputs": [],
   "source": [
    "GSE104766 = GSE104766.rename_axis('gene')"
   ]
  },
  {
   "cell_type": "code",
   "execution_count": 25,
   "id": "neutral-harassment",
   "metadata": {},
   "outputs": [],
   "source": [
    "# export matrix for this project\n",
    "#GSE104766.to_csv('Matrices_HB/GSE104766_matrix.txt', sep=\";\",index=True)"
   ]
  },
  {
   "cell_type": "markdown",
   "id": "biological-orbit",
   "metadata": {},
   "source": [
    "## Wagner (2020) - GSE151347"
   ]
  },
  {
   "cell_type": "code",
   "execution_count": 10,
   "id": "internal-timothy",
   "metadata": {},
   "outputs": [],
   "source": [
    "GSE151347_path ='/home/mar/Documents/TFM/June/Task1_v4/Matrices_HB/Originals_HB/GSE151347_GeneLevel_Normalized.csv'\n",
    "GSE151347 = pd.read_csv(GSE151347_path,sep=',', index_col=0)\n",
    "GSE151347 = GSE151347.rename_axis('gene')"
   ]
  },
  {
   "cell_type": "code",
   "execution_count": 28,
   "id": "intellectual-sight",
   "metadata": {},
   "outputs": [],
   "source": [
    "# export matrix for this project\n",
    "#GSE151347.to_csv('Matrices_HB/GSE151347_matrix.txt', sep=\";\",index=True)"
   ]
  },
  {
   "source": [
    "## Carrillo-Reixach (2019) - GSE133039"
   ],
   "cell_type": "markdown",
   "metadata": {}
  },
  {
   "cell_type": "code",
   "execution_count": 11,
   "metadata": {},
   "outputs": [],
   "source": [
    "GSE133039_path ='/home/mar/Documents/TFM/June/Task1_v4/Matrices_HB/Originals_HB/GSE133039_GeneLevel_Normalized.csv'\n",
    "GSE133039 = pd.read_csv(GSE133039_path,sep=',', index_col=0)\n",
    "GSE133039 = GSE133039.rename_axis('gene')"
   ]
  },
  {
   "source": [
    "## Valanejad (2018) - GSE81928"
   ],
   "cell_type": "markdown",
   "metadata": {}
  },
  {
   "cell_type": "code",
   "execution_count": 12,
   "metadata": {},
   "outputs": [],
   "source": [
    "GSE81928_path ='/home/mar/Documents/TFM/June/Task1_v4/Matrices_HB/Originals_HB/GSE81928_GeneLevel_Normalized.csv'\n",
    "GSE81928 = pd.read_csv(GSE81928_path,sep=',', index_col=0)\n",
    "GSE81928 = GSE81928.rename_axis('gene')"
   ]
  },
  {
   "cell_type": "markdown",
   "id": "cellular-boundary",
   "metadata": {},
   "source": [
    "## Join Matrices"
   ]
  },
  {
   "cell_type": "code",
   "execution_count": 13,
   "id": "incoming-knife",
   "metadata": {},
   "outputs": [],
   "source": [
    "join_data = GSE89775.merge(GSE104766, left_index=True, right_index=True)\n",
    "join_data = join_data.merge(GSE151347, left_index=True, right_index=True)\n",
    "join_data = join_data.merge(GSE133039, left_index=True, right_index=True)"
   ]
  },
  {
   "cell_type": "code",
   "execution_count": 14,
   "metadata": {},
   "outputs": [],
   "source": [
    "# group gene values using the mean values\n",
    "join_data = join_data.groupby(join_data.index).mean()"
   ]
  },
  {
   "cell_type": "code",
   "execution_count": 15,
   "id": "static-height",
   "metadata": {},
   "outputs": [],
   "source": [
    "# export matrix for this project\n",
    "join_data.to_csv('/home/mar/Documents/TFM/June/Task1_v4/Matrices_HB/Joint_matrix.txt', sep=\";\",index=True)"
   ]
  },
  {
   "cell_type": "code",
   "execution_count": null,
   "metadata": {},
   "outputs": [],
   "source": []
  }
 ],
 "metadata": {
  "kernelspec": {
   "name": "python38664bitmlconda7b4ac6cde5954b3f8d48cd22e79fbecd",
   "display_name": "Python 3.8.6 64-bit ('ml': conda)"
  },
  "language_info": {
   "codemirror_mode": {
    "name": "ipython",
    "version": 3
   },
   "file_extension": ".py",
   "mimetype": "text/x-python",
   "name": "python",
   "nbconvert_exporter": "python",
   "pygments_lexer": "ipython3",
   "version": "3.8.6"
  },
  "metadata": {
   "interpreter": {
    "hash": "996a7b8479c7a2f75b6f839f81d9cd861a3b9da150126ad9ca5da88c64275624"
   }
  }
 },
 "nbformat": 4,
 "nbformat_minor": 5
}