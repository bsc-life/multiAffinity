{
 "cells": [
  {
   "cell_type": "code",
   "execution_count": 2,
   "id": "comic-stage",
   "metadata": {},
   "outputs": [],
   "source": [
    "import numpy as np\n",
    "import pandas as pd\n",
    "from tqdm import tqdm\n",
    "import sys\n",
    "import mygene"
   ]
  },
  {
   "cell_type": "markdown",
   "id": "concrete-engineer",
   "metadata": {},
   "source": [
    "## Ranganathan (2016) - GSE89775"
   ]
  },
  {
   "cell_type": "code",
   "execution_count": 14,
   "id": "close-hawaiian",
   "metadata": {},
   "outputs": [],
   "source": [
    "GSE89775_path = '/home/mar/Documents/TFM/GitHub/HB_PublicData/1-Obtaining-DEGs-for-HB/Matrices_HB/Originals_HB/GSE89775_hepato_norm_counts_edited.txt'\n",
    "GSE89775 = pd.read_csv(GSE89775_path,sep=';', index_col=0)"
   ]
  },
  {
   "cell_type": "code",
   "execution_count": 7,
   "id": "vanilla-garbage",
   "metadata": {},
   "outputs": [],
   "source": [
    "# corregir genes con nombre de gen\n",
    "#GSE89775 = GSE89775.rename(index={'1-Ago':'AGO1',\n",
    "                        '2-Ago':'AGO2',\n",
    "                        '3-Ago':'AGO3',\n",
    "                        '4-Ago':'AGO4',\n",
    "                        '1-Mar':'MARCHF1',\n",
    "                        '1-Mar':'MARCHF1',\n",
    "                        '2-Mar':'MARCHF2',\n",
    "                        '2-Mar':'MARCHF2',\n",
    "                        '3-Mar':'MARCHF3',\n",
    "                        '4-Mar':'MARCHF4',\n",
    "                        '5-Mar':'MARCHF5',\n",
    "                        '6-Mar':'MARCHF6',\n",
    "                        '7-Mar':'MARCHF7',\n",
    "                        '8-Mar':'MARCHF8',\n",
    "                        '9-Mar':'MARCHF9',\n",
    "                        '10-Mar':'MARCHF10',\n",
    "                        '11-Mar':'MARCHF11',\n",
    "                        '1-Sep':'SEPTIN1',\n",
    "                        '2-Sep':'SEPTIN2',\n",
    "                        '3-Sep':'SEPTIN3',\n",
    "                        '4-Sep':'SEPTIN4',\n",
    "                        '5-Sep':'SEPTIN5',\n",
    "                        '6-Sep':'SEPTIN6',\n",
    "                        '7-Sep':'SEPTIN7',\n",
    "                        '8-Sep':'SEPTIN8',\n",
    "                        '9-Sep':'SEPTIN9',\n",
    "                        '10-Sep':'SEPTIN10',\n",
    "                        '11-Sep':'SEPTIN11',\n",
    "                        '12-Sep':'SEPTIN12',\n",
    "                        '14-Sep':'SEPTIN14',\n",
    "                        '15-Sep':'SEPTIN15',\n",
    "                        '1-Dec':'BHLHE40'})"
   ]
  },
  {
   "cell_type": "code",
   "execution_count": 16,
   "id": "eight-staff",
   "metadata": {},
   "outputs": [],
   "source": [
    "# group gene values using the mean values\n",
    "GSE89775 = GSE89775.groupby(GSE89775.index).mean()"
   ]
  },
  {
   "cell_type": "code",
   "execution_count": 17,
   "id": "lightweight-sandwich",
   "metadata": {},
   "outputs": [],
   "source": [
    "# export edited original matrix\n",
    "# GSE89775.to_csv('Originals_HB/GSE89775_hepato_norm_counts_edited.txt',sep=';',index=True)\n",
    "GSE89775 = GSE89775.rename_axis('gene')"
   ]
  },
  {
   "cell_type": "code",
   "execution_count": 19,
   "id": "suspected-feedback",
   "metadata": {},
   "outputs": [],
   "source": [
    "# export matrix for this project\n",
    "#GSE89775.to_csv('Matrices_HB/GSE89775_matrix.txt', sep=\";\",index=True)"
   ]
  },
  {
   "cell_type": "markdown",
   "id": "fuzzy-admission",
   "metadata": {},
   "source": [
    "## Hooks (2018) - GSE104766"
   ]
  },
  {
   "cell_type": "code",
   "execution_count": 20,
   "id": "retained-mortality",
   "metadata": {},
   "outputs": [
    {
     "output_type": "execute_result",
     "data": {
      "text/plain": [
       "                 P19_NT  P19_T  P28_NT  P28_T  P02_NT  P02_T  P04_a_NT  \\\n",
       "Geneid                                                                   \n",
       "ENSG00000223972       0      1       0      0       0      0         0   \n",
       "ENSG00000227232       5      0       0      0       4     10         0   \n",
       "ENSG00000278267       7      0       4      2       0      0         0   \n",
       "ENSG00000243485       0      0       0      0       0      0         0   \n",
       "ENSG00000274890       0      0       0      0       0      0         0   \n",
       "\n",
       "                 P04_a_T  P15_NT  P15_T  ...  P04_c_NT_rep3  P04_c_T_rep1  \\\n",
       "Geneid                                   ...                                \n",
       "ENSG00000223972        0       0      1  ...              0             0   \n",
       "ENSG00000227232        0       0      3  ...              1             0   \n",
       "ENSG00000278267        0       0      3  ...              3             1   \n",
       "ENSG00000243485        0       0      0  ...              0             0   \n",
       "ENSG00000274890        0       0      0  ...              0             0   \n",
       "\n",
       "                 P04_c_T_rep2  P04_c_T_rep3  P20_NT  P20_T  P29_NT  P29_T  \\\n",
       "Geneid                                                                      \n",
       "ENSG00000223972             0             0       0      0       0      0   \n",
       "ENSG00000227232             0             1       2      7       2      2   \n",
       "ENSG00000278267             5            11       4     45       1      0   \n",
       "ENSG00000243485             0             0       0      0       0      0   \n",
       "ENSG00000274890             0             0       0      0       0      0   \n",
       "\n",
       "                 HepG2  HuH6  \n",
       "Geneid                        \n",
       "ENSG00000223972      0     0  \n",
       "ENSG00000227232      2     0  \n",
       "ENSG00000278267      4     0  \n",
       "ENSG00000243485      0     0  \n",
       "ENSG00000274890      0     0  \n",
       "\n",
       "[5 rows x 62 columns]"
      ],
      "text/html": "<div>\n<style scoped>\n    .dataframe tbody tr th:only-of-type {\n        vertical-align: middle;\n    }\n\n    .dataframe tbody tr th {\n        vertical-align: top;\n    }\n\n    .dataframe thead th {\n        text-align: right;\n    }\n</style>\n<table border=\"1\" class=\"dataframe\">\n  <thead>\n    <tr style=\"text-align: right;\">\n      <th></th>\n      <th>P19_NT</th>\n      <th>P19_T</th>\n      <th>P28_NT</th>\n      <th>P28_T</th>\n      <th>P02_NT</th>\n      <th>P02_T</th>\n      <th>P04_a_NT</th>\n      <th>P04_a_T</th>\n      <th>P15_NT</th>\n      <th>P15_T</th>\n      <th>...</th>\n      <th>P04_c_NT_rep3</th>\n      <th>P04_c_T_rep1</th>\n      <th>P04_c_T_rep2</th>\n      <th>P04_c_T_rep3</th>\n      <th>P20_NT</th>\n      <th>P20_T</th>\n      <th>P29_NT</th>\n      <th>P29_T</th>\n      <th>HepG2</th>\n      <th>HuH6</th>\n    </tr>\n    <tr>\n      <th>Geneid</th>\n      <th></th>\n      <th></th>\n      <th></th>\n      <th></th>\n      <th></th>\n      <th></th>\n      <th></th>\n      <th></th>\n      <th></th>\n      <th></th>\n      <th></th>\n      <th></th>\n      <th></th>\n      <th></th>\n      <th></th>\n      <th></th>\n      <th></th>\n      <th></th>\n      <th></th>\n      <th></th>\n      <th></th>\n    </tr>\n  </thead>\n  <tbody>\n    <tr>\n      <th>ENSG00000223972</th>\n      <td>0</td>\n      <td>1</td>\n      <td>0</td>\n      <td>0</td>\n      <td>0</td>\n      <td>0</td>\n      <td>0</td>\n      <td>0</td>\n      <td>0</td>\n      <td>1</td>\n      <td>...</td>\n      <td>0</td>\n      <td>0</td>\n      <td>0</td>\n      <td>0</td>\n      <td>0</td>\n      <td>0</td>\n      <td>0</td>\n      <td>0</td>\n      <td>0</td>\n      <td>0</td>\n    </tr>\n    <tr>\n      <th>ENSG00000227232</th>\n      <td>5</td>\n      <td>0</td>\n      <td>0</td>\n      <td>0</td>\n      <td>4</td>\n      <td>10</td>\n      <td>0</td>\n      <td>0</td>\n      <td>0</td>\n      <td>3</td>\n      <td>...</td>\n      <td>1</td>\n      <td>0</td>\n      <td>0</td>\n      <td>1</td>\n      <td>2</td>\n      <td>7</td>\n      <td>2</td>\n      <td>2</td>\n      <td>2</td>\n      <td>0</td>\n    </tr>\n    <tr>\n      <th>ENSG00000278267</th>\n      <td>7</td>\n      <td>0</td>\n      <td>4</td>\n      <td>2</td>\n      <td>0</td>\n      <td>0</td>\n      <td>0</td>\n      <td>0</td>\n      <td>0</td>\n      <td>3</td>\n      <td>...</td>\n      <td>3</td>\n      <td>1</td>\n      <td>5</td>\n      <td>11</td>\n      <td>4</td>\n      <td>45</td>\n      <td>1</td>\n      <td>0</td>\n      <td>4</td>\n      <td>0</td>\n    </tr>\n    <tr>\n      <th>ENSG00000243485</th>\n      <td>0</td>\n      <td>0</td>\n      <td>0</td>\n      <td>0</td>\n      <td>0</td>\n      <td>0</td>\n      <td>0</td>\n      <td>0</td>\n      <td>0</td>\n      <td>0</td>\n      <td>...</td>\n      <td>0</td>\n      <td>0</td>\n      <td>0</td>\n      <td>0</td>\n      <td>0</td>\n      <td>0</td>\n      <td>0</td>\n      <td>0</td>\n      <td>0</td>\n      <td>0</td>\n    </tr>\n    <tr>\n      <th>ENSG00000274890</th>\n      <td>0</td>\n      <td>0</td>\n      <td>0</td>\n      <td>0</td>\n      <td>0</td>\n      <td>0</td>\n      <td>0</td>\n      <td>0</td>\n      <td>0</td>\n      <td>0</td>\n      <td>...</td>\n      <td>0</td>\n      <td>0</td>\n      <td>0</td>\n      <td>0</td>\n      <td>0</td>\n      <td>0</td>\n      <td>0</td>\n      <td>0</td>\n      <td>0</td>\n      <td>0</td>\n    </tr>\n  </tbody>\n</table>\n<p>5 rows × 62 columns</p>\n</div>"
     },
     "metadata": {},
     "execution_count": 20
    }
   ],
   "source": [
    "GSE104766_path = '/home/mar/Documents/TFM/GitHub/HB_PublicData/1-Obtaining-DEGs-for-HB/Matrices_HB/Originals_HB/GSE104766_counts_mapped2GR38.txt'\n",
    "GSE104766 = pd.read_csv(GSE104766_path,sep='\\t', index_col=0)\n",
    "GSE104766.head()"
   ]
  },
  {
   "cell_type": "code",
   "execution_count": 21,
   "id": "representative-specific",
   "metadata": {},
   "outputs": [
    {
     "output_type": "stream",
     "name": "stdout",
     "text": [
      "querying 1-1000...done.\n",
      "querying 1001-2000...done.\n",
      "querying 2001-3000...done.\n",
      "querying 3001-4000...done.\n",
      "querying 4001-5000...done.\n",
      "querying 5001-6000...done.\n",
      "querying 6001-7000...done.\n",
      "querying 7001-8000...done.\n",
      "querying 8001-9000...done.\n",
      "querying 9001-10000...done.\n",
      "querying 10001-11000...done.\n",
      "querying 11001-12000...done.\n",
      "querying 12001-13000...done.\n",
      "querying 13001-14000...done.\n",
      "querying 14001-15000...done.\n",
      "querying 15001-16000...done.\n",
      "querying 16001-17000...done.\n",
      "querying 17001-18000...done.\n",
      "querying 18001-19000...done.\n",
      "querying 19001-20000...done.\n",
      "querying 20001-21000...done.\n",
      "querying 21001-22000...done.\n",
      "querying 22001-23000...done.\n",
      "querying 23001-24000...done.\n",
      "querying 24001-25000...done.\n",
      "querying 25001-26000...done.\n",
      "querying 26001-27000...done.\n",
      "querying 27001-28000...done.\n",
      "querying 28001-29000...done.\n",
      "querying 29001-30000...done.\n",
      "querying 30001-31000...done.\n",
      "querying 31001-32000...done.\n",
      "querying 32001-33000...done.\n",
      "querying 33001-34000...done.\n",
      "querying 34001-35000...done.\n",
      "querying 35001-36000...done.\n",
      "querying 36001-37000...done.\n",
      "querying 37001-38000...done.\n",
      "querying 38001-39000...done.\n",
      "querying 39001-40000...done.\n",
      "querying 40001-41000...done.\n",
      "querying 41001-42000...done.\n",
      "querying 42001-43000...done.\n",
      "querying 43001-44000...done.\n",
      "querying 44001-45000...done.\n",
      "querying 45001-46000...done.\n",
      "querying 46001-47000...done.\n",
      "querying 47001-48000...done.\n",
      "querying 48001-49000...done.\n",
      "querying 49001-50000...done.\n",
      "querying 50001-51000...done.\n",
      "querying 51001-52000...done.\n",
      "querying 52001-53000...done.\n",
      "querying 53001-54000...done.\n",
      "querying 54001-55000...done.\n",
      "querying 55001-56000...done.\n",
      "querying 56001-57000...done.\n",
      "querying 57001-58000...done.\n",
      "querying 58001-59000...done.\n",
      "querying 59001-60000...done.\n",
      "querying 60001-60619...done.\n",
      "Finished.\n",
      "2 input query terms found dup hits:\n",
      "\t[('ENSG00000249981', 2), ('ENSG00000229425', 2)]\n",
      "4004 input query terms found no hit:\n",
      "\t['ENSG00000274890', 'ENSG00000275135', 'ENSG00000241670', 'ENSG00000236743', 'ENSG00000278566', 'ENS\n"
     ]
    }
   ],
   "source": [
    "# translate ensembl id to gene symbol\n",
    "import mygene ## https://nbviewer.jupyter.org/gist/newgene/6771106\n",
    "mg = mygene.MyGeneInfo()\n",
    "GSE104766_ens = GSE104766.index.tolist()\n",
    "results = mg.querymany(GSE104766_ens, scopes='ensembl.gene', fields='symbol', species='human',returnall=True, as_dataframe=True);"
   ]
  },
  {
   "cell_type": "code",
   "execution_count": 23,
   "id": "sized-breed",
   "metadata": {},
   "outputs": [],
   "source": [
    "gene_info = results['out']\n",
    "gene_info.drop(['_id', '_score', 'notfound'], axis='columns', inplace=True)"
   ]
  },
  {
   "cell_type": "code",
   "execution_count": 24,
   "id": "strategic-organizer",
   "metadata": {},
   "outputs": [],
   "source": [
    "GSE104766 = pd.merge(GSE104766, gene_info, left_index=True, right_index=True)\n",
    "GSE104766.reset_index(drop=True, inplace=True)\n",
    "GSE104766 = GSE104766.set_index('symbol')\n",
    "GSE104766  = GSE104766 .groupby(GSE104766.index).mean()\n",
    "GSE104766 = GSE104766.rename_axis('gene')"
   ]
  },
  {
   "cell_type": "code",
   "execution_count": 25,
   "id": "neutral-harassment",
   "metadata": {},
   "outputs": [],
   "source": [
    "# export matrix for this project\n",
    "#GSE104766.to_csv('Matrices_HB/GSE104766_matrix.txt', sep=\";\",index=True)"
   ]
  },
  {
   "cell_type": "markdown",
   "id": "biological-orbit",
   "metadata": {},
   "source": [
    "## Wagner (2020) - GSE151347"
   ]
  },
  {
   "cell_type": "code",
   "execution_count": 27,
   "id": "internal-timothy",
   "metadata": {},
   "outputs": [],
   "source": [
    "GSE151347_path = '/home/mar/Documents/TFM/GitHub/HB_PublicData/1-Obtaining-DEGs-for-HB/Matrices_HB/Originals_HB/GSE151347_Raw_gene_counts_matrix.xlsx'\n",
    "GSE151347 = pd.read_excel(GSE151347_path, index_col=0)"
   ]
  },
  {
   "cell_type": "code",
   "execution_count": 28,
   "id": "intellectual-sight",
   "metadata": {},
   "outputs": [],
   "source": [
    "# export matrix for this project\n",
    "#GSE151347.to_csv('Matrices_HB/GSE151347_matrix.txt', sep=\";\",index=True)"
   ]
  },
  {
   "source": [
    "## Carrillo-Reixach"
   ],
   "cell_type": "markdown",
   "metadata": {}
  },
  {
   "cell_type": "code",
   "execution_count": 5,
   "metadata": {},
   "outputs": [],
   "source": [
    "Carrillo_path = '/home/mar/Documents/TFM/GitHub/HB_PublicData/1-Obtaining-DEGs-for-HB/Matrices_HB/Originals_HB/Carrillo-Reixach_RNAseq_log2.xlsx'\n",
    "Carrillo = pd.read_excel(Carrillo_path, index_col=0)"
   ]
  },
  {
   "cell_type": "code",
   "execution_count": 6,
   "metadata": {},
   "outputs": [
    {
     "output_type": "execute_result",
     "data": {
      "text/plain": [
       "           HB10NT    HB11NT     HB13NT    HB14NT     HB1NT    HB16NT  \\\n",
       "Gene                                                                   \n",
       "AMDHD1   5.877091  7.434907   8.140415  7.162385  7.512613  8.130875   \n",
       "ANGPTL6  4.266450  4.109980   4.480419  4.206414  3.906074  4.680423   \n",
       "CCDC50   6.654351  6.522819   6.729777  6.814082  6.876634  6.662568   \n",
       "CFI      9.127665  9.463506  10.283812  9.639721  9.894176  9.387165   \n",
       "CGREF1   0.969393  1.700824   1.280934  1.037333  1.115303  2.482406   \n",
       "\n",
       "           HB17NT    HB45NT    HB76NT    HB77NT  ...  MABHB73T  MABHB80T  \\\n",
       "Gene                                             ...                       \n",
       "AMDHD1   6.521973  6.254472  6.259856  7.117445  ...  5.648395  4.991604   \n",
       "ANGPTL6  4.037238  3.363358  3.772616  4.568131  ...  0.450849 -0.273450   \n",
       "CCDC50   7.103469  8.185944  7.793411  7.418240  ...  6.680109  6.129098   \n",
       "CFI      9.249945  9.842175  9.354646  9.899805  ...  7.453105  8.664987   \n",
       "CGREF1   1.481028  2.403946  4.351898  2.510797  ...  5.187645  3.913090   \n",
       "\n",
       "         MABHB225T  MABHB238T  MABHB233T  MABHB235T      HB5T  MABHB236T  \\\n",
       "Gene                                                                       \n",
       "AMDHD1    5.282936   5.593223   3.126332   3.877451  4.100993   5.511044   \n",
       "ANGPTL6  -1.562796  -2.595718  -1.335339  -1.780055 -1.089576  -3.862953   \n",
       "CCDC50    6.067138   5.720340   6.748458   6.004517  6.674247   6.501997   \n",
       "CFI       8.928759   4.364616   7.928600   7.605187  7.503656   6.040356   \n",
       "CGREF1    2.956020   6.436723   4.445699   5.134513  4.377009   4.223685   \n",
       "\n",
       "         MABHB239T  MABHB252T  \n",
       "Gene                           \n",
       "AMDHD1    3.856974   6.928588  \n",
       "ANGPTL6  -2.914041  -3.250376  \n",
       "CCDC50    5.378468   6.377879  \n",
       "CFI       5.635353   8.099088  \n",
       "CGREF1    3.774045   3.726993  \n",
       "\n",
       "[5 rows x 64 columns]"
      ],
      "text/html": "<div>\n<style scoped>\n    .dataframe tbody tr th:only-of-type {\n        vertical-align: middle;\n    }\n\n    .dataframe tbody tr th {\n        vertical-align: top;\n    }\n\n    .dataframe thead th {\n        text-align: right;\n    }\n</style>\n<table border=\"1\" class=\"dataframe\">\n  <thead>\n    <tr style=\"text-align: right;\">\n      <th></th>\n      <th>HB10NT</th>\n      <th>HB11NT</th>\n      <th>HB13NT</th>\n      <th>HB14NT</th>\n      <th>HB1NT</th>\n      <th>HB16NT</th>\n      <th>HB17NT</th>\n      <th>HB45NT</th>\n      <th>HB76NT</th>\n      <th>HB77NT</th>\n      <th>...</th>\n      <th>MABHB73T</th>\n      <th>MABHB80T</th>\n      <th>MABHB225T</th>\n      <th>MABHB238T</th>\n      <th>MABHB233T</th>\n      <th>MABHB235T</th>\n      <th>HB5T</th>\n      <th>MABHB236T</th>\n      <th>MABHB239T</th>\n      <th>MABHB252T</th>\n    </tr>\n    <tr>\n      <th>Gene</th>\n      <th></th>\n      <th></th>\n      <th></th>\n      <th></th>\n      <th></th>\n      <th></th>\n      <th></th>\n      <th></th>\n      <th></th>\n      <th></th>\n      <th></th>\n      <th></th>\n      <th></th>\n      <th></th>\n      <th></th>\n      <th></th>\n      <th></th>\n      <th></th>\n      <th></th>\n      <th></th>\n      <th></th>\n    </tr>\n  </thead>\n  <tbody>\n    <tr>\n      <th>AMDHD1</th>\n      <td>5.877091</td>\n      <td>7.434907</td>\n      <td>8.140415</td>\n      <td>7.162385</td>\n      <td>7.512613</td>\n      <td>8.130875</td>\n      <td>6.521973</td>\n      <td>6.254472</td>\n      <td>6.259856</td>\n      <td>7.117445</td>\n      <td>...</td>\n      <td>5.648395</td>\n      <td>4.991604</td>\n      <td>5.282936</td>\n      <td>5.593223</td>\n      <td>3.126332</td>\n      <td>3.877451</td>\n      <td>4.100993</td>\n      <td>5.511044</td>\n      <td>3.856974</td>\n      <td>6.928588</td>\n    </tr>\n    <tr>\n      <th>ANGPTL6</th>\n      <td>4.266450</td>\n      <td>4.109980</td>\n      <td>4.480419</td>\n      <td>4.206414</td>\n      <td>3.906074</td>\n      <td>4.680423</td>\n      <td>4.037238</td>\n      <td>3.363358</td>\n      <td>3.772616</td>\n      <td>4.568131</td>\n      <td>...</td>\n      <td>0.450849</td>\n      <td>-0.273450</td>\n      <td>-1.562796</td>\n      <td>-2.595718</td>\n      <td>-1.335339</td>\n      <td>-1.780055</td>\n      <td>-1.089576</td>\n      <td>-3.862953</td>\n      <td>-2.914041</td>\n      <td>-3.250376</td>\n    </tr>\n    <tr>\n      <th>CCDC50</th>\n      <td>6.654351</td>\n      <td>6.522819</td>\n      <td>6.729777</td>\n      <td>6.814082</td>\n      <td>6.876634</td>\n      <td>6.662568</td>\n      <td>7.103469</td>\n      <td>8.185944</td>\n      <td>7.793411</td>\n      <td>7.418240</td>\n      <td>...</td>\n      <td>6.680109</td>\n      <td>6.129098</td>\n      <td>6.067138</td>\n      <td>5.720340</td>\n      <td>6.748458</td>\n      <td>6.004517</td>\n      <td>6.674247</td>\n      <td>6.501997</td>\n      <td>5.378468</td>\n      <td>6.377879</td>\n    </tr>\n    <tr>\n      <th>CFI</th>\n      <td>9.127665</td>\n      <td>9.463506</td>\n      <td>10.283812</td>\n      <td>9.639721</td>\n      <td>9.894176</td>\n      <td>9.387165</td>\n      <td>9.249945</td>\n      <td>9.842175</td>\n      <td>9.354646</td>\n      <td>9.899805</td>\n      <td>...</td>\n      <td>7.453105</td>\n      <td>8.664987</td>\n      <td>8.928759</td>\n      <td>4.364616</td>\n      <td>7.928600</td>\n      <td>7.605187</td>\n      <td>7.503656</td>\n      <td>6.040356</td>\n      <td>5.635353</td>\n      <td>8.099088</td>\n    </tr>\n    <tr>\n      <th>CGREF1</th>\n      <td>0.969393</td>\n      <td>1.700824</td>\n      <td>1.280934</td>\n      <td>1.037333</td>\n      <td>1.115303</td>\n      <td>2.482406</td>\n      <td>1.481028</td>\n      <td>2.403946</td>\n      <td>4.351898</td>\n      <td>2.510797</td>\n      <td>...</td>\n      <td>5.187645</td>\n      <td>3.913090</td>\n      <td>2.956020</td>\n      <td>6.436723</td>\n      <td>4.445699</td>\n      <td>5.134513</td>\n      <td>4.377009</td>\n      <td>4.223685</td>\n      <td>3.774045</td>\n      <td>3.726993</td>\n    </tr>\n  </tbody>\n</table>\n<p>5 rows × 64 columns</p>\n</div>"
     },
     "metadata": {},
     "execution_count": 6
    }
   ],
   "source": [
    "Carrillo.head()"
   ]
  },
  {
   "cell_type": "markdown",
   "id": "cellular-boundary",
   "metadata": {},
   "source": [
    "## Join Matrices"
   ]
  },
  {
   "cell_type": "code",
   "execution_count": 14,
   "id": "incoming-knife",
   "metadata": {},
   "outputs": [],
   "source": [
    "join_data = GSE89775.merge(GSE104766, left_index=True, right_index=True)\n",
    "join_data = join_data.merge(GSE151347, left_index=True, right_index=True)"
   ]
  },
  {
   "cell_type": "code",
   "execution_count": 15,
   "id": "static-height",
   "metadata": {},
   "outputs": [],
   "source": [
    "# export matrix for this project\n",
    "join_data .to_csv('Matrices_HB/Joint_matrix.txt', sep=\";\",index=True)"
   ]
  }
 ],
 "metadata": {
  "kernelspec": {
   "name": "python38664bitmlconda7b4ac6cde5954b3f8d48cd22e79fbecd",
   "display_name": "Python 3.8.6 64-bit ('ml': conda)"
  },
  "language_info": {
   "codemirror_mode": {
    "name": "ipython",
    "version": 3
   },
   "file_extension": ".py",
   "mimetype": "text/x-python",
   "name": "python",
   "nbconvert_exporter": "python",
   "pygments_lexer": "ipython3",
   "version": "3.8.6"
  },
  "metadata": {
   "interpreter": {
    "hash": "996a7b8479c7a2f75b6f839f81d9cd861a3b9da150126ad9ca5da88c64275624"
   }
  }
 },
 "nbformat": 4,
 "nbformat_minor": 5
}