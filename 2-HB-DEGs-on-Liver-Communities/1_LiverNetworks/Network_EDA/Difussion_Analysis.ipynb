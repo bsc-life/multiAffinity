{
 "metadata": {
  "language_info": {
   "codemirror_mode": {
    "name": "ipython",
    "version": 3
   },
   "file_extension": ".py",
   "mimetype": "text/x-python",
   "name": "python",
   "nbconvert_exporter": "python",
   "pygments_lexer": "ipython3",
   "version": "3.8.6"
  },
  "orig_nbformat": 2,
  "kernelspec": {
   "name": "python38664bitmlconda7b4ac6cde5954b3f8d48cd22e79fbecd",
   "display_name": "Python 3.8.6 64-bit ('ml': conda)"
  },
  "metadata": {
   "interpreter": {
    "hash": "996a7b8479c7a2f75b6f839f81d9cd861a3b9da150126ad9ca5da88c64275624"
   }
  }
 },
 "nbformat": 4,
 "nbformat_minor": 2,
 "cells": [
  {
   "cell_type": "code",
   "execution_count": 51,
   "metadata": {},
   "outputs": [],
   "source": [
    "import pandas as pd\n",
    "import numpy as np\n",
    "import networkx as nx\n",
    "import igraph as ig\n",
    "import nxviz as nv\n",
    "import matplotlib.pyplot as plt\n",
    "from nxviz import MatrixPlot, ArcPlot, CircosPlot\n",
    "%matplotlib inline"
   ]
  },
  {
   "cell_type": "code",
   "execution_count": 8,
   "metadata": {},
   "outputs": [],
   "source": [
    "df_path = '/home/mar/Documents/TFM/GitHub/HB_PublicData/2-HB-DEGs-on-Liver-Communities/1_LiverNetworks/liver_PPI.txt'\n",
    "df = pd.read_csv(df_path, sep='\\t',names=['node1','node2'])"
   ]
  },
  {
   "cell_type": "code",
   "execution_count": 9,
   "metadata": {},
   "outputs": [],
   "source": [
    "G=nx.from_pandas_edgelist(df, \"node1\", \"node2\")"
   ]
  },
  {
   "cell_type": "code",
   "execution_count": 53,
   "metadata": {},
   "outputs": [],
   "source": [
    "pr = nx.pagerank(G, alpha=0.75)"
   ]
  },
  {
   "cell_type": "code",
   "execution_count": 50,
   "metadata": {},
   "outputs": [
    {
     "output_type": "error",
     "ename": "NameError",
     "evalue": "name 'laplacian_matrix' is not defined",
     "traceback": [
      "\u001b[0;31m---------------------------------------------------------------------------\u001b[0m",
      "\u001b[0;31mNameError\u001b[0m                                 Traceback (most recent call last)",
      "\u001b[0;32m<ipython-input-50-28ff78d042bc>\u001b[0m in \u001b[0;36m<module>\u001b[0;34m\u001b[0m\n\u001b[1;32m      1\u001b[0m \u001b[0;32mimport\u001b[0m \u001b[0mscipy\u001b[0m\u001b[0;34m\u001b[0m\u001b[0;34m\u001b[0m\u001b[0m\n\u001b[1;32m      2\u001b[0m \u001b[0;32mimport\u001b[0m \u001b[0mscipy\u001b[0m\u001b[0;34m.\u001b[0m\u001b[0msparse\u001b[0m\u001b[0;34m\u001b[0m\u001b[0;34m\u001b[0m\u001b[0m\n\u001b[0;32m----> 3\u001b[0;31m \u001b[0mmat\u001b[0m \u001b[0;34m=\u001b[0m \u001b[0mlaplacian_matrix\u001b[0m\u001b[0;34m(\u001b[0m\u001b[0mG\u001b[0m\u001b[0;34m,\u001b[0m \u001b[0mnodelist\u001b[0m\u001b[0;34m=\u001b[0m\u001b[0;32mNone\u001b[0m\u001b[0;34m,\u001b[0m \u001b[0mwalk_type\u001b[0m\u001b[0;34m=\u001b[0m\u001b[0;34m'random'\u001b[0m\u001b[0;34m,\u001b[0m \u001b[0malpha\u001b[0m\u001b[0;34m=\u001b[0m\u001b[0;36m0.75\u001b[0m\u001b[0;34m)\u001b[0m\u001b[0;34m\u001b[0m\u001b[0;34m\u001b[0m\u001b[0m\n\u001b[0m",
      "\u001b[0;31mNameError\u001b[0m: name 'laplacian_matrix' is not defined"
     ]
    }
   ],
   "source": [
    "import scipy\n",
    "import scipy.sparse\n",
    "mat = laplacian_matrix(G, nodelist=None, walk_type='random', alpha=0.75)"
   ]
  },
  {
   "cell_type": "code",
   "execution_count": 39,
   "metadata": {},
   "outputs": [
    {
     "output_type": "execute_result",
     "data": {
      "text/plain": [
       "227"
      ]
     },
     "metadata": {},
     "execution_count": 39
    }
   ],
   "source": [
    "degs_path = '/home/mar/Documents/TFM/GitHub/HB_PublicData/2-HB-DEGs-on-Liver-Communities/3_HB_DEG_in_liver_clusters/HB_db_DEG.csv'\n",
    "degs = pd.read_csv(degs_path, index_col=0)\n",
    "degs_names = degs.index.tolist()\n",
    "len(degs_names)"
   ]
  },
  {
   "cell_type": "code",
   "execution_count": 42,
   "metadata": {},
   "outputs": [
    {
     "output_type": "stream",
     "name": "stdout",
     "text": [
      "<class 'pandas.core.frame.DataFrame'>\nIndex: 1600 entries, CNBP to NASP\nColumns: 1600 entries, CNBP to NASP\ndtypes: float64(1600)\nmemory usage: 19.5+ MB\n"
     ]
    }
   ],
   "source": [
    "mat_path = '/home/mar/Documents/TFM/GitHub/HB_PublicData/2-HB-DEGs-on-Liver-Communities/1_LiverNetworks/Network_EDA/PTmatrix_liver.txt'\n",
    "mat = pd.read_csv(mat_path, index_col=0)\n",
    "mat.info()"
   ]
  },
  {
   "cell_type": "code",
   "execution_count": 43,
   "metadata": {},
   "outputs": [
    {
     "output_type": "stream",
     "name": "stdout",
     "text": [
      "<class 'pandas.core.frame.DataFrame'>\nIndex: 1600 entries, CNBP to NASP\nData columns (total 13 columns):\n #   Column    Non-Null Count  Dtype  \n---  ------    --------------  -----  \n 0   SH2B1     1600 non-null   float64\n 1   AACS      1600 non-null   float64\n 2   VPS33A    1600 non-null   float64\n 3   MAPK3     1600 non-null   float64\n 4   CEP250    1600 non-null   float64\n 5   HS6ST1    1600 non-null   float64\n 6   ARHGEF28  1600 non-null   float64\n 7   AP1G2     1600 non-null   float64\n 8   SRC       1600 non-null   float64\n 9   DVL2      1600 non-null   float64\n 10  GNG4      1600 non-null   float64\n 11  SLC7A6    1600 non-null   float64\n 12  ITGA6     1600 non-null   float64\ndtypes: float64(13)\nmemory usage: 175.0+ KB\n"
     ]
    }
   ],
   "source": [
    "mat_degs = mat.filter(degs_names)\n",
    "mat_degs.info()"
   ]
  },
  {
   "cell_type": "code",
   "execution_count": 48,
   "metadata": {},
   "outputs": [
    {
     "output_type": "stream",
     "name": "stdout",
     "text": [
      "<class 'pandas.core.frame.DataFrame'>\nIndex: 13 entries, DVL2 to ARHGEF28\nData columns (total 13 columns):\n #   Column    Non-Null Count  Dtype  \n---  ------    --------------  -----  \n 0   SH2B1     13 non-null     float64\n 1   AACS      13 non-null     float64\n 2   VPS33A    13 non-null     float64\n 3   MAPK3     13 non-null     float64\n 4   CEP250    13 non-null     float64\n 5   HS6ST1    13 non-null     float64\n 6   ARHGEF28  13 non-null     float64\n 7   AP1G2     13 non-null     float64\n 8   SRC       13 non-null     float64\n 9   DVL2      13 non-null     float64\n 10  GNG4      13 non-null     float64\n 11  SLC7A6    13 non-null     float64\n 12  ITGA6     13 non-null     float64\ndtypes: float64(13)\nmemory usage: 1.4+ KB\n"
     ]
    }
   ],
   "source": [
    "mat_degs = mat_degs[mat_degs.index.isin(degs_names)]\n",
    "mat_degs.info()"
   ]
  },
  {
   "cell_type": "code",
   "execution_count": 49,
   "metadata": {},
   "outputs": [
    {
     "output_type": "execute_result",
     "data": {
      "text/plain": [
       "             SH2B1      AACS    VPS33A     MAPK3    CEP250    HS6ST1  \\\n",
       "DVL2      0.000000  0.000000  0.000000  0.000000  0.000000  0.000000   \n",
       "MAPK3     0.000000  0.000000  0.000000  0.798572  0.000000  0.000000   \n",
       "AP1G2     0.000000  0.000000  0.000000  0.000000  0.000000  0.000000   \n",
       "CEP250    0.000000  0.000000  0.000000  0.000000  0.798572  0.000000   \n",
       "SLC7A6    0.000000  0.000000  0.000000  0.000000  0.000000  0.000000   \n",
       "HS6ST1    0.000000  0.000000  0.000000  0.000000  0.000000  0.798572   \n",
       "SRC       0.000000  0.000000  0.000000  0.000000  0.000000  0.000000   \n",
       "ITGA6     0.000000  0.000000  0.000000  0.000000  0.000000  0.000000   \n",
       "GNG4      0.000000  0.000000  0.000000  0.000000  0.000000  0.000000   \n",
       "SH2B1     0.798572  0.000000  0.000000  0.000000  0.000000  0.000000   \n",
       "AACS      0.000000  0.798572  0.000000  0.000000  0.000000  0.000000   \n",
       "VPS33A    0.000000  0.000000  0.798572  0.000000  0.000000  0.000000   \n",
       "ARHGEF28  0.000000  0.000000  0.000000  0.000000  0.000000  0.000000   \n",
       "\n",
       "          ARHGEF28     AP1G2       SRC      DVL2      GNG4    SLC7A6     ITGA6  \n",
       "DVL2      0.000000  0.000000  0.000000  0.798572  0.000000  0.000000  0.000000  \n",
       "MAPK3     0.000000  0.000000  0.000000  0.000000  0.000000  0.000000  0.000000  \n",
       "AP1G2     0.000000  0.798572  0.000000  0.000000  0.000000  0.000000  0.000000  \n",
       "CEP250    0.000000  0.000000  0.000000  0.000000  0.000000  0.000000  0.000000  \n",
       "SLC7A6    0.000000  0.000000  0.000000  0.000000  0.000000  0.798572  0.000000  \n",
       "HS6ST1    0.000000  0.000000  0.000000  0.000000  0.000000  0.000000  0.000000  \n",
       "SRC       0.000000  0.000000  0.798572  0.000000  0.000000  0.000000  0.000000  \n",
       "ITGA6     0.000000  0.000000  0.000000  0.000000  0.000000  0.000000  0.798572  \n",
       "GNG4      0.000000  0.000000  0.000000  0.000000  0.798572  0.000000  0.000000  \n",
       "SH2B1     0.000000  0.000000  0.000000  0.000000  0.000000  0.000000  0.000000  \n",
       "AACS      0.000000  0.000000  0.000000  0.000000  0.000000  0.000000  0.000000  \n",
       "VPS33A    0.000000  0.000000  0.000000  0.000000  0.000000  0.000000  0.000000  \n",
       "ARHGEF28  0.798572  0.000000  0.000000  0.000000  0.000000  0.000000  0.000000  "
      ],
      "text/html": "<div>\n<style scoped>\n    .dataframe tbody tr th:only-of-type {\n        vertical-align: middle;\n    }\n\n    .dataframe tbody tr th {\n        vertical-align: top;\n    }\n\n    .dataframe thead th {\n        text-align: right;\n    }\n</style>\n<table border=\"1\" class=\"dataframe\">\n  <thead>\n    <tr style=\"text-align: right;\">\n      <th></th>\n      <th>SH2B1</th>\n      <th>AACS</th>\n      <th>VPS33A</th>\n      <th>MAPK3</th>\n      <th>CEP250</th>\n      <th>HS6ST1</th>\n      <th>ARHGEF28</th>\n      <th>AP1G2</th>\n      <th>SRC</th>\n      <th>DVL2</th>\n      <th>GNG4</th>\n      <th>SLC7A6</th>\n      <th>ITGA6</th>\n    </tr>\n  </thead>\n  <tbody>\n    <tr>\n      <th>DVL2</th>\n      <td>0.000000</td>\n      <td>0.000000</td>\n      <td>0.000000</td>\n      <td>0.000000</td>\n      <td>0.000000</td>\n      <td>0.000000</td>\n      <td>0.000000</td>\n      <td>0.000000</td>\n      <td>0.000000</td>\n      <td>0.798572</td>\n      <td>0.000000</td>\n      <td>0.000000</td>\n      <td>0.000000</td>\n    </tr>\n    <tr>\n      <th>MAPK3</th>\n      <td>0.000000</td>\n      <td>0.000000</td>\n      <td>0.000000</td>\n      <td>0.798572</td>\n      <td>0.000000</td>\n      <td>0.000000</td>\n      <td>0.000000</td>\n      <td>0.000000</td>\n      <td>0.000000</td>\n      <td>0.000000</td>\n      <td>0.000000</td>\n      <td>0.000000</td>\n      <td>0.000000</td>\n    </tr>\n    <tr>\n      <th>AP1G2</th>\n      <td>0.000000</td>\n      <td>0.000000</td>\n      <td>0.000000</td>\n      <td>0.000000</td>\n      <td>0.000000</td>\n      <td>0.000000</td>\n      <td>0.000000</td>\n      <td>0.798572</td>\n      <td>0.000000</td>\n      <td>0.000000</td>\n      <td>0.000000</td>\n      <td>0.000000</td>\n      <td>0.000000</td>\n    </tr>\n    <tr>\n      <th>CEP250</th>\n      <td>0.000000</td>\n      <td>0.000000</td>\n      <td>0.000000</td>\n      <td>0.000000</td>\n      <td>0.798572</td>\n      <td>0.000000</td>\n      <td>0.000000</td>\n      <td>0.000000</td>\n      <td>0.000000</td>\n      <td>0.000000</td>\n      <td>0.000000</td>\n      <td>0.000000</td>\n      <td>0.000000</td>\n    </tr>\n    <tr>\n      <th>SLC7A6</th>\n      <td>0.000000</td>\n      <td>0.000000</td>\n      <td>0.000000</td>\n      <td>0.000000</td>\n      <td>0.000000</td>\n      <td>0.000000</td>\n      <td>0.000000</td>\n      <td>0.000000</td>\n      <td>0.000000</td>\n      <td>0.000000</td>\n      <td>0.000000</td>\n      <td>0.798572</td>\n      <td>0.000000</td>\n    </tr>\n    <tr>\n      <th>HS6ST1</th>\n      <td>0.000000</td>\n      <td>0.000000</td>\n      <td>0.000000</td>\n      <td>0.000000</td>\n      <td>0.000000</td>\n      <td>0.798572</td>\n      <td>0.000000</td>\n      <td>0.000000</td>\n      <td>0.000000</td>\n      <td>0.000000</td>\n      <td>0.000000</td>\n      <td>0.000000</td>\n      <td>0.000000</td>\n    </tr>\n    <tr>\n      <th>SRC</th>\n      <td>0.000000</td>\n      <td>0.000000</td>\n      <td>0.000000</td>\n      <td>0.000000</td>\n      <td>0.000000</td>\n      <td>0.000000</td>\n      <td>0.000000</td>\n      <td>0.000000</td>\n      <td>0.798572</td>\n      <td>0.000000</td>\n      <td>0.000000</td>\n      <td>0.000000</td>\n      <td>0.000000</td>\n    </tr>\n    <tr>\n      <th>ITGA6</th>\n      <td>0.000000</td>\n      <td>0.000000</td>\n      <td>0.000000</td>\n      <td>0.000000</td>\n      <td>0.000000</td>\n      <td>0.000000</td>\n      <td>0.000000</td>\n      <td>0.000000</td>\n      <td>0.000000</td>\n      <td>0.000000</td>\n      <td>0.000000</td>\n      <td>0.000000</td>\n      <td>0.798572</td>\n    </tr>\n    <tr>\n      <th>GNG4</th>\n      <td>0.000000</td>\n      <td>0.000000</td>\n      <td>0.000000</td>\n      <td>0.000000</td>\n      <td>0.000000</td>\n      <td>0.000000</td>\n      <td>0.000000</td>\n      <td>0.000000</td>\n      <td>0.000000</td>\n      <td>0.000000</td>\n      <td>0.798572</td>\n      <td>0.000000</td>\n      <td>0.000000</td>\n    </tr>\n    <tr>\n      <th>SH2B1</th>\n      <td>0.798572</td>\n      <td>0.000000</td>\n      <td>0.000000</td>\n      <td>0.000000</td>\n      <td>0.000000</td>\n      <td>0.000000</td>\n      <td>0.000000</td>\n      <td>0.000000</td>\n      <td>0.000000</td>\n      <td>0.000000</td>\n      <td>0.000000</td>\n      <td>0.000000</td>\n      <td>0.000000</td>\n    </tr>\n    <tr>\n      <th>AACS</th>\n      <td>0.000000</td>\n      <td>0.798572</td>\n      <td>0.000000</td>\n      <td>0.000000</td>\n      <td>0.000000</td>\n      <td>0.000000</td>\n      <td>0.000000</td>\n      <td>0.000000</td>\n      <td>0.000000</td>\n      <td>0.000000</td>\n      <td>0.000000</td>\n      <td>0.000000</td>\n      <td>0.000000</td>\n    </tr>\n    <tr>\n      <th>VPS33A</th>\n      <td>0.000000</td>\n      <td>0.000000</td>\n      <td>0.798572</td>\n      <td>0.000000</td>\n      <td>0.000000</td>\n      <td>0.000000</td>\n      <td>0.000000</td>\n      <td>0.000000</td>\n      <td>0.000000</td>\n      <td>0.000000</td>\n      <td>0.000000</td>\n      <td>0.000000</td>\n      <td>0.000000</td>\n    </tr>\n    <tr>\n      <th>ARHGEF28</th>\n      <td>0.000000</td>\n      <td>0.000000</td>\n      <td>0.000000</td>\n      <td>0.000000</td>\n      <td>0.000000</td>\n      <td>0.000000</td>\n      <td>0.798572</td>\n      <td>0.000000</td>\n      <td>0.000000</td>\n      <td>0.000000</td>\n      <td>0.000000</td>\n      <td>0.000000</td>\n      <td>0.000000</td>\n    </tr>\n  </tbody>\n</table>\n</div>"
     },
     "metadata": {},
     "execution_count": 49
    }
   ],
   "source": [
    "mat_degs"
   ]
  },
  {
   "cell_type": "code",
   "execution_count": 37,
   "metadata": {},
   "outputs": [
    {
     "output_type": "execute_result",
     "data": {
      "text/plain": [
       "         DVL2  MAPK3  AP1G2  CEP250  SLC7A6  HS6ST1  SRC  ITGA6  GNG4  SH2B1  \\\n",
       "CNBP      0.0    0.0    0.0     0.0     0.0     0.0  0.0    0.0   0.0    0.0   \n",
       "HNRNPAB   0.0    0.0    0.0     0.0     0.0     0.0  0.0    0.0   0.0    0.0   \n",
       "TRIAP1    0.0    0.0    0.0     0.0     0.0     0.0  0.0    0.0   0.0    0.0   \n",
       "BAG3      0.0    0.0    0.0     0.0     0.0     0.0  0.0    0.0   0.0    0.0   \n",
       "ATXN3     0.0    0.0    0.0     0.0     0.0     0.0  0.0    0.0   0.0    0.0   \n",
       "...       ...    ...    ...     ...     ...     ...  ...    ...   ...    ...   \n",
       "RNF111    0.0    0.0    0.0     0.0     0.0     0.0  0.0    0.0   0.0    0.0   \n",
       "TUBA1B    0.0    0.0    0.0     0.0     0.0     0.0  0.0    0.0   0.0    0.0   \n",
       "PPP3CA    0.0    0.0    0.0     0.0     0.0     0.0  0.0    0.0   0.0    0.0   \n",
       "REX1BD    0.0    0.0    0.0     0.0     0.0     0.0  0.0    0.0   0.0    0.0   \n",
       "NASP      0.0    0.0    0.0     0.0     0.0     0.0  0.0    0.0   0.0    0.0   \n",
       "\n",
       "         AACS  VPS33A  ARHGEF28  \n",
       "CNBP      0.0     0.0       0.0  \n",
       "HNRNPAB   0.0     0.0       0.0  \n",
       "TRIAP1    0.0     0.0       0.0  \n",
       "BAG3      0.0     0.0       0.0  \n",
       "ATXN3     0.0     0.0       0.0  \n",
       "...       ...     ...       ...  \n",
       "RNF111    0.0     0.0       0.0  \n",
       "TUBA1B    0.0     0.0       0.0  \n",
       "PPP3CA    0.0     0.0       0.0  \n",
       "REX1BD    0.0     0.0       0.0  \n",
       "NASP      0.0     0.0       0.0  \n",
       "\n",
       "[1600 rows x 13 columns]"
      ],
      "text/html": "<div>\n<style scoped>\n    .dataframe tbody tr th:only-of-type {\n        vertical-align: middle;\n    }\n\n    .dataframe tbody tr th {\n        vertical-align: top;\n    }\n\n    .dataframe thead th {\n        text-align: right;\n    }\n</style>\n<table border=\"1\" class=\"dataframe\">\n  <thead>\n    <tr style=\"text-align: right;\">\n      <th></th>\n      <th>DVL2</th>\n      <th>MAPK3</th>\n      <th>AP1G2</th>\n      <th>CEP250</th>\n      <th>SLC7A6</th>\n      <th>HS6ST1</th>\n      <th>SRC</th>\n      <th>ITGA6</th>\n      <th>GNG4</th>\n      <th>SH2B1</th>\n      <th>AACS</th>\n      <th>VPS33A</th>\n      <th>ARHGEF28</th>\n    </tr>\n  </thead>\n  <tbody>\n    <tr>\n      <th>CNBP</th>\n      <td>0.0</td>\n      <td>0.0</td>\n      <td>0.0</td>\n      <td>0.0</td>\n      <td>0.0</td>\n      <td>0.0</td>\n      <td>0.0</td>\n      <td>0.0</td>\n      <td>0.0</td>\n      <td>0.0</td>\n      <td>0.0</td>\n      <td>0.0</td>\n      <td>0.0</td>\n    </tr>\n    <tr>\n      <th>HNRNPAB</th>\n      <td>0.0</td>\n      <td>0.0</td>\n      <td>0.0</td>\n      <td>0.0</td>\n      <td>0.0</td>\n      <td>0.0</td>\n      <td>0.0</td>\n      <td>0.0</td>\n      <td>0.0</td>\n      <td>0.0</td>\n      <td>0.0</td>\n      <td>0.0</td>\n      <td>0.0</td>\n    </tr>\n    <tr>\n      <th>TRIAP1</th>\n      <td>0.0</td>\n      <td>0.0</td>\n      <td>0.0</td>\n      <td>0.0</td>\n      <td>0.0</td>\n      <td>0.0</td>\n      <td>0.0</td>\n      <td>0.0</td>\n      <td>0.0</td>\n      <td>0.0</td>\n      <td>0.0</td>\n      <td>0.0</td>\n      <td>0.0</td>\n    </tr>\n    <tr>\n      <th>BAG3</th>\n      <td>0.0</td>\n      <td>0.0</td>\n      <td>0.0</td>\n      <td>0.0</td>\n      <td>0.0</td>\n      <td>0.0</td>\n      <td>0.0</td>\n      <td>0.0</td>\n      <td>0.0</td>\n      <td>0.0</td>\n      <td>0.0</td>\n      <td>0.0</td>\n      <td>0.0</td>\n    </tr>\n    <tr>\n      <th>ATXN3</th>\n      <td>0.0</td>\n      <td>0.0</td>\n      <td>0.0</td>\n      <td>0.0</td>\n      <td>0.0</td>\n      <td>0.0</td>\n      <td>0.0</td>\n      <td>0.0</td>\n      <td>0.0</td>\n      <td>0.0</td>\n      <td>0.0</td>\n      <td>0.0</td>\n      <td>0.0</td>\n    </tr>\n    <tr>\n      <th>...</th>\n      <td>...</td>\n      <td>...</td>\n      <td>...</td>\n      <td>...</td>\n      <td>...</td>\n      <td>...</td>\n      <td>...</td>\n      <td>...</td>\n      <td>...</td>\n      <td>...</td>\n      <td>...</td>\n      <td>...</td>\n      <td>...</td>\n    </tr>\n    <tr>\n      <th>RNF111</th>\n      <td>0.0</td>\n      <td>0.0</td>\n      <td>0.0</td>\n      <td>0.0</td>\n      <td>0.0</td>\n      <td>0.0</td>\n      <td>0.0</td>\n      <td>0.0</td>\n      <td>0.0</td>\n      <td>0.0</td>\n      <td>0.0</td>\n      <td>0.0</td>\n      <td>0.0</td>\n    </tr>\n    <tr>\n      <th>TUBA1B</th>\n      <td>0.0</td>\n      <td>0.0</td>\n      <td>0.0</td>\n      <td>0.0</td>\n      <td>0.0</td>\n      <td>0.0</td>\n      <td>0.0</td>\n      <td>0.0</td>\n      <td>0.0</td>\n      <td>0.0</td>\n      <td>0.0</td>\n      <td>0.0</td>\n      <td>0.0</td>\n    </tr>\n    <tr>\n      <th>PPP3CA</th>\n      <td>0.0</td>\n      <td>0.0</td>\n      <td>0.0</td>\n      <td>0.0</td>\n      <td>0.0</td>\n      <td>0.0</td>\n      <td>0.0</td>\n      <td>0.0</td>\n      <td>0.0</td>\n      <td>0.0</td>\n      <td>0.0</td>\n      <td>0.0</td>\n      <td>0.0</td>\n    </tr>\n    <tr>\n      <th>REX1BD</th>\n      <td>0.0</td>\n      <td>0.0</td>\n      <td>0.0</td>\n      <td>0.0</td>\n      <td>0.0</td>\n      <td>0.0</td>\n      <td>0.0</td>\n      <td>0.0</td>\n      <td>0.0</td>\n      <td>0.0</td>\n      <td>0.0</td>\n      <td>0.0</td>\n      <td>0.0</td>\n    </tr>\n    <tr>\n      <th>NASP</th>\n      <td>0.0</td>\n      <td>0.0</td>\n      <td>0.0</td>\n      <td>0.0</td>\n      <td>0.0</td>\n      <td>0.0</td>\n      <td>0.0</td>\n      <td>0.0</td>\n      <td>0.0</td>\n      <td>0.0</td>\n      <td>0.0</td>\n      <td>0.0</td>\n      <td>0.0</td>\n    </tr>\n  </tbody>\n</table>\n<p>1600 rows × 13 columns</p>\n</div>"
     },
     "metadata": {},
     "execution_count": 37
    }
   ],
   "source": [
    "mat[[c for c in mat.columns if c in degs_names]]\n",
    "mat[[c for c in mat.index if c in degs_names]]"
   ]
  },
  {
   "cell_type": "code",
   "execution_count": null,
   "metadata": {},
   "outputs": [],
   "source": []
  }
 ]
}