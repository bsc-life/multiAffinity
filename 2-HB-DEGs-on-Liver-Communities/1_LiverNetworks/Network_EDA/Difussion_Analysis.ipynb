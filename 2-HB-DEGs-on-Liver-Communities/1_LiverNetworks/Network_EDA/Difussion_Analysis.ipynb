{
 "metadata": {
  "language_info": {
   "codemirror_mode": {
    "name": "ipython",
    "version": 3
   },
   "file_extension": ".py",
   "mimetype": "text/x-python",
   "name": "python",
   "nbconvert_exporter": "python",
   "pygments_lexer": "ipython3",
   "version": "3.8.6"
  },
  "orig_nbformat": 2,
  "kernelspec": {
   "name": "python38664bitmlconda7b4ac6cde5954b3f8d48cd22e79fbecd",
   "display_name": "Python 3.8.6 64-bit ('ml': conda)"
  },
  "metadata": {
   "interpreter": {
    "hash": "996a7b8479c7a2f75b6f839f81d9cd861a3b9da150126ad9ca5da88c64275624"
   }
  }
 },
 "nbformat": 4,
 "nbformat_minor": 2,
 "cells": [
  {
   "cell_type": "code",
   "execution_count": 14,
   "metadata": {},
   "outputs": [],
   "source": [
    "import pandas as pd\n",
    "import numpy as np\n",
    "from scipy import stats\n",
    "%matplotlib inline"
   ]
  },
  {
   "cell_type": "code",
   "execution_count": 5,
   "metadata": {},
   "outputs": [
    {
     "output_type": "execute_result",
     "data": {
      "text/plain": [
       "227"
      ]
     },
     "metadata": {},
     "execution_count": 5
    }
   ],
   "source": [
    "degs_path = '/home/mar/Documents/TFM/GitHub/HB_PublicData/2-HB-DEGs-on-Liver-Communities/3_HB_DEG_in_liver_clusters/HB_db_DEG.csv'\n",
    "degs = pd.read_csv(degs_path, index_col=0)\n",
    "degs_names = degs.index.tolist()\n",
    "len(degs_names)"
   ]
  },
  {
   "cell_type": "code",
   "execution_count": 6,
   "metadata": {},
   "outputs": [
    {
     "output_type": "stream",
     "name": "stdout",
     "text": [
      "<class 'pandas.core.frame.DataFrame'>\nIndex: 1600 entries, CNBP to NASP\nColumns: 1600 entries, CNBP to NASP\ndtypes: float64(1600)\nmemory usage: 19.5+ MB\n"
     ]
    }
   ],
   "source": [
    "mat_path = '/home/mar/Documents/TFM/GitHub/HB_PublicData/2-HB-DEGs-on-Liver-Communities/1_LiverNetworks/Network_EDA/PTmatrix_liver.txt'\n",
    "mat = pd.read_csv(mat_path, index_col=0)\n",
    "mat.info()"
   ]
  },
  {
   "cell_type": "code",
   "execution_count": 7,
   "metadata": {},
   "outputs": [
    {
     "output_type": "stream",
     "name": "stdout",
     "text": [
      "<class 'pandas.core.frame.DataFrame'>\nIndex: 1600 entries, CNBP to NASP\nData columns (total 13 columns):\n #   Column    Non-Null Count  Dtype  \n---  ------    --------------  -----  \n 0   SH2B1     1600 non-null   float64\n 1   AACS      1600 non-null   float64\n 2   VPS33A    1600 non-null   float64\n 3   MAPK3     1600 non-null   float64\n 4   CEP250    1600 non-null   float64\n 5   HS6ST1    1600 non-null   float64\n 6   ARHGEF28  1600 non-null   float64\n 7   AP1G2     1600 non-null   float64\n 8   SRC       1600 non-null   float64\n 9   DVL2      1600 non-null   float64\n 10  GNG4      1600 non-null   float64\n 11  SLC7A6    1600 non-null   float64\n 12  ITGA6     1600 non-null   float64\ndtypes: float64(13)\nmemory usage: 175.0+ KB\n"
     ]
    }
   ],
   "source": [
    "mat_degs = mat.filter(degs_names)\n",
    "mat_degs = mat_degs[mat_degs.index.isin(degs_names)]"
   ]
  },
  {
   "cell_type": "code",
   "execution_count": 12,
   "metadata": {},
   "outputs": [],
   "source": [
    "result = pd.concat([degs, mat_degs], axis=1, join='inner')"
   ]
  },
  {
   "cell_type": "code",
   "execution_count": 13,
   "metadata": {},
   "outputs": [
    {
     "output_type": "execute_result",
     "data": {
      "text/plain": [
       "          t-statistic   adj_p-value  effect size     SH2B1      AACS  \\\n",
       "SH2B1        4.495403  2.407320e-05     0.800727  0.798572  0.000000   \n",
       "AACS         4.629068  2.152385e-05     0.802308  0.000000  0.798572   \n",
       "VPS33A       4.624329  1.731544e-05     0.811559  0.000000  0.000000   \n",
       "MAPK3        4.655975  1.468950e-05     0.818552  0.000000  0.000000   \n",
       "CEP250       4.812731  1.099569e-05     0.829580  0.000000  0.000000   \n",
       "HS6ST1       5.104993  3.316715e-06     0.875190  0.000000  0.000000   \n",
       "ARHGEF28     5.177985  2.495611e-06     0.885648  0.000000  0.000000   \n",
       "AP1G2        5.149869  2.035386e-06     0.893189  0.000000  0.000000   \n",
       "SRC          5.288383  1.472076e-06     0.904254  0.000000  0.000000   \n",
       "DVL2         5.492770  7.716127e-07     0.927704  0.000000  0.000000   \n",
       "GNG4         5.636779  6.997274e-07     0.936247  0.000000  0.000000   \n",
       "SLC7A6       5.520291  4.399677e-07     0.945596  0.000000  0.000000   \n",
       "ITGA6        6.304723  3.541761e-08     1.029137  0.000000  0.000000   \n",
       "\n",
       "            VPS33A     MAPK3    CEP250    HS6ST1  ARHGEF28     AP1G2  \\\n",
       "SH2B1     0.000000  0.000000  0.000000  0.000000  0.000000  0.000000   \n",
       "AACS      0.000000  0.000000  0.000000  0.000000  0.000000  0.000000   \n",
       "VPS33A    0.798572  0.000000  0.000000  0.000000  0.000000  0.000000   \n",
       "MAPK3     0.000000  0.798572  0.000000  0.000000  0.000000  0.000000   \n",
       "CEP250    0.000000  0.000000  0.798572  0.000000  0.000000  0.000000   \n",
       "HS6ST1    0.000000  0.000000  0.000000  0.798572  0.000000  0.000000   \n",
       "ARHGEF28  0.000000  0.000000  0.000000  0.000000  0.798572  0.000000   \n",
       "AP1G2     0.000000  0.000000  0.000000  0.000000  0.000000  0.798572   \n",
       "SRC       0.000000  0.000000  0.000000  0.000000  0.000000  0.000000   \n",
       "DVL2      0.000000  0.000000  0.000000  0.000000  0.000000  0.000000   \n",
       "GNG4      0.000000  0.000000  0.000000  0.000000  0.000000  0.000000   \n",
       "SLC7A6    0.000000  0.000000  0.000000  0.000000  0.000000  0.000000   \n",
       "ITGA6     0.000000  0.000000  0.000000  0.000000  0.000000  0.000000   \n",
       "\n",
       "               SRC      DVL2      GNG4    SLC7A6     ITGA6  \n",
       "SH2B1     0.000000  0.000000  0.000000  0.000000  0.000000  \n",
       "AACS      0.000000  0.000000  0.000000  0.000000  0.000000  \n",
       "VPS33A    0.000000  0.000000  0.000000  0.000000  0.000000  \n",
       "MAPK3     0.000000  0.000000  0.000000  0.000000  0.000000  \n",
       "CEP250    0.000000  0.000000  0.000000  0.000000  0.000000  \n",
       "HS6ST1    0.000000  0.000000  0.000000  0.000000  0.000000  \n",
       "ARHGEF28  0.000000  0.000000  0.000000  0.000000  0.000000  \n",
       "AP1G2     0.000000  0.000000  0.000000  0.000000  0.000000  \n",
       "SRC       0.798572  0.000000  0.000000  0.000000  0.000000  \n",
       "DVL2      0.000000  0.798572  0.000000  0.000000  0.000000  \n",
       "GNG4      0.000000  0.000000  0.798572  0.000000  0.000000  \n",
       "SLC7A6    0.000000  0.000000  0.000000  0.798572  0.000000  \n",
       "ITGA6     0.000000  0.000000  0.000000  0.000000  0.798572  "
      ],
      "text/html": "<div>\n<style scoped>\n    .dataframe tbody tr th:only-of-type {\n        vertical-align: middle;\n    }\n\n    .dataframe tbody tr th {\n        vertical-align: top;\n    }\n\n    .dataframe thead th {\n        text-align: right;\n    }\n</style>\n<table border=\"1\" class=\"dataframe\">\n  <thead>\n    <tr style=\"text-align: right;\">\n      <th></th>\n      <th>t-statistic</th>\n      <th>adj_p-value</th>\n      <th>effect size</th>\n      <th>SH2B1</th>\n      <th>AACS</th>\n      <th>VPS33A</th>\n      <th>MAPK3</th>\n      <th>CEP250</th>\n      <th>HS6ST1</th>\n      <th>ARHGEF28</th>\n      <th>AP1G2</th>\n      <th>SRC</th>\n      <th>DVL2</th>\n      <th>GNG4</th>\n      <th>SLC7A6</th>\n      <th>ITGA6</th>\n    </tr>\n  </thead>\n  <tbody>\n    <tr>\n      <th>SH2B1</th>\n      <td>4.495403</td>\n      <td>2.407320e-05</td>\n      <td>0.800727</td>\n      <td>0.798572</td>\n      <td>0.000000</td>\n      <td>0.000000</td>\n      <td>0.000000</td>\n      <td>0.000000</td>\n      <td>0.000000</td>\n      <td>0.000000</td>\n      <td>0.000000</td>\n      <td>0.000000</td>\n      <td>0.000000</td>\n      <td>0.000000</td>\n      <td>0.000000</td>\n      <td>0.000000</td>\n    </tr>\n    <tr>\n      <th>AACS</th>\n      <td>4.629068</td>\n      <td>2.152385e-05</td>\n      <td>0.802308</td>\n      <td>0.000000</td>\n      <td>0.798572</td>\n      <td>0.000000</td>\n      <td>0.000000</td>\n      <td>0.000000</td>\n      <td>0.000000</td>\n      <td>0.000000</td>\n      <td>0.000000</td>\n      <td>0.000000</td>\n      <td>0.000000</td>\n      <td>0.000000</td>\n      <td>0.000000</td>\n      <td>0.000000</td>\n    </tr>\n    <tr>\n      <th>VPS33A</th>\n      <td>4.624329</td>\n      <td>1.731544e-05</td>\n      <td>0.811559</td>\n      <td>0.000000</td>\n      <td>0.000000</td>\n      <td>0.798572</td>\n      <td>0.000000</td>\n      <td>0.000000</td>\n      <td>0.000000</td>\n      <td>0.000000</td>\n      <td>0.000000</td>\n      <td>0.000000</td>\n      <td>0.000000</td>\n      <td>0.000000</td>\n      <td>0.000000</td>\n      <td>0.000000</td>\n    </tr>\n    <tr>\n      <th>MAPK3</th>\n      <td>4.655975</td>\n      <td>1.468950e-05</td>\n      <td>0.818552</td>\n      <td>0.000000</td>\n      <td>0.000000</td>\n      <td>0.000000</td>\n      <td>0.798572</td>\n      <td>0.000000</td>\n      <td>0.000000</td>\n      <td>0.000000</td>\n      <td>0.000000</td>\n      <td>0.000000</td>\n      <td>0.000000</td>\n      <td>0.000000</td>\n      <td>0.000000</td>\n      <td>0.000000</td>\n    </tr>\n    <tr>\n      <th>CEP250</th>\n      <td>4.812731</td>\n      <td>1.099569e-05</td>\n      <td>0.829580</td>\n      <td>0.000000</td>\n      <td>0.000000</td>\n      <td>0.000000</td>\n      <td>0.000000</td>\n      <td>0.798572</td>\n      <td>0.000000</td>\n      <td>0.000000</td>\n      <td>0.000000</td>\n      <td>0.000000</td>\n      <td>0.000000</td>\n      <td>0.000000</td>\n      <td>0.000000</td>\n      <td>0.000000</td>\n    </tr>\n    <tr>\n      <th>HS6ST1</th>\n      <td>5.104993</td>\n      <td>3.316715e-06</td>\n      <td>0.875190</td>\n      <td>0.000000</td>\n      <td>0.000000</td>\n      <td>0.000000</td>\n      <td>0.000000</td>\n      <td>0.000000</td>\n      <td>0.798572</td>\n      <td>0.000000</td>\n      <td>0.000000</td>\n      <td>0.000000</td>\n      <td>0.000000</td>\n      <td>0.000000</td>\n      <td>0.000000</td>\n      <td>0.000000</td>\n    </tr>\n    <tr>\n      <th>ARHGEF28</th>\n      <td>5.177985</td>\n      <td>2.495611e-06</td>\n      <td>0.885648</td>\n      <td>0.000000</td>\n      <td>0.000000</td>\n      <td>0.000000</td>\n      <td>0.000000</td>\n      <td>0.000000</td>\n      <td>0.000000</td>\n      <td>0.798572</td>\n      <td>0.000000</td>\n      <td>0.000000</td>\n      <td>0.000000</td>\n      <td>0.000000</td>\n      <td>0.000000</td>\n      <td>0.000000</td>\n    </tr>\n    <tr>\n      <th>AP1G2</th>\n      <td>5.149869</td>\n      <td>2.035386e-06</td>\n      <td>0.893189</td>\n      <td>0.000000</td>\n      <td>0.000000</td>\n      <td>0.000000</td>\n      <td>0.000000</td>\n      <td>0.000000</td>\n      <td>0.000000</td>\n      <td>0.000000</td>\n      <td>0.798572</td>\n      <td>0.000000</td>\n      <td>0.000000</td>\n      <td>0.000000</td>\n      <td>0.000000</td>\n      <td>0.000000</td>\n    </tr>\n    <tr>\n      <th>SRC</th>\n      <td>5.288383</td>\n      <td>1.472076e-06</td>\n      <td>0.904254</td>\n      <td>0.000000</td>\n      <td>0.000000</td>\n      <td>0.000000</td>\n      <td>0.000000</td>\n      <td>0.000000</td>\n      <td>0.000000</td>\n      <td>0.000000</td>\n      <td>0.000000</td>\n      <td>0.798572</td>\n      <td>0.000000</td>\n      <td>0.000000</td>\n      <td>0.000000</td>\n      <td>0.000000</td>\n    </tr>\n    <tr>\n      <th>DVL2</th>\n      <td>5.492770</td>\n      <td>7.716127e-07</td>\n      <td>0.927704</td>\n      <td>0.000000</td>\n      <td>0.000000</td>\n      <td>0.000000</td>\n      <td>0.000000</td>\n      <td>0.000000</td>\n      <td>0.000000</td>\n      <td>0.000000</td>\n      <td>0.000000</td>\n      <td>0.000000</td>\n      <td>0.798572</td>\n      <td>0.000000</td>\n      <td>0.000000</td>\n      <td>0.000000</td>\n    </tr>\n    <tr>\n      <th>GNG4</th>\n      <td>5.636779</td>\n      <td>6.997274e-07</td>\n      <td>0.936247</td>\n      <td>0.000000</td>\n      <td>0.000000</td>\n      <td>0.000000</td>\n      <td>0.000000</td>\n      <td>0.000000</td>\n      <td>0.000000</td>\n      <td>0.000000</td>\n      <td>0.000000</td>\n      <td>0.000000</td>\n      <td>0.000000</td>\n      <td>0.798572</td>\n      <td>0.000000</td>\n      <td>0.000000</td>\n    </tr>\n    <tr>\n      <th>SLC7A6</th>\n      <td>5.520291</td>\n      <td>4.399677e-07</td>\n      <td>0.945596</td>\n      <td>0.000000</td>\n      <td>0.000000</td>\n      <td>0.000000</td>\n      <td>0.000000</td>\n      <td>0.000000</td>\n      <td>0.000000</td>\n      <td>0.000000</td>\n      <td>0.000000</td>\n      <td>0.000000</td>\n      <td>0.000000</td>\n      <td>0.000000</td>\n      <td>0.798572</td>\n      <td>0.000000</td>\n    </tr>\n    <tr>\n      <th>ITGA6</th>\n      <td>6.304723</td>\n      <td>3.541761e-08</td>\n      <td>1.029137</td>\n      <td>0.000000</td>\n      <td>0.000000</td>\n      <td>0.000000</td>\n      <td>0.000000</td>\n      <td>0.000000</td>\n      <td>0.000000</td>\n      <td>0.000000</td>\n      <td>0.000000</td>\n      <td>0.000000</td>\n      <td>0.000000</td>\n      <td>0.000000</td>\n      <td>0.000000</td>\n      <td>0.798572</td>\n    </tr>\n  </tbody>\n</table>\n</div>"
     },
     "metadata": {},
     "execution_count": 13
    }
   ],
   "source": [
    "result"
   ]
  },
  {
   "cell_type": "code",
   "execution_count": 26,
   "metadata": {},
   "outputs": [
    {
     "output_type": "stream",
     "name": "stdout",
     "text": [
      "SH2B1 :  -0.3550326905340732\nAACS :  -0.34808558493145303\nVPS33A :  -0.3074288957372696\nMAPK3 :  -0.27670036455056213\nCEP250 :  -0.2282342644224082\nHS6ST1 :  -0.027793696599408554\nARHGEF28 :  0.018164941046455586\nAP1G2 :  0.051305151259014234\nSRC :  0.0999317647927758\nDVL2 :  0.20298696558190632\nGNG4 :  0.2405274855025688\nSLC7A6 :  0.28161389730523745\nITGA6 :  0.6487452912872171\n"
     ]
    }
   ],
   "source": [
    "x = result['effect size']\n",
    "genes = result.index\n",
    "\n",
    "for i in genes:\n",
    "    corr = result['effect size'].corr(result[i])\n",
    "    print(i,': ',corr)"
   ]
  },
  {
   "cell_type": "code",
   "execution_count": 17,
   "metadata": {},
   "outputs": [
    {
     "output_type": "execute_result",
     "data": {
      "text/plain": [
       "Index(['SH2B1', 'AACS', 'VPS33A', 'MAPK3', 'CEP250', 'HS6ST1', 'ARHGEF28',\n",
       "       'AP1G2', 'SRC', 'DVL2', 'GNG4', 'SLC7A6', 'ITGA6'],\n",
       "      dtype='object')"
      ]
     },
     "metadata": {},
     "execution_count": 17
    }
   ],
   "source": [
    "genes"
   ]
  },
  {
   "cell_type": "code",
   "execution_count": null,
   "metadata": {},
   "outputs": [],
   "source": []
  }
 ]
}