{
 "cells": [
  {
   "cell_type": "code",
   "execution_count": 1,
   "id": "indian-sociology",
   "metadata": {},
   "outputs": [],
   "source": [
    "import pandas as pd\n",
    "import numpy as np"
   ]
  },
  {
   "cell_type": "code",
   "execution_count": null,
   "id": "through-switch",
   "metadata": {},
   "outputs": [],
   "source": [
    "#loading the human annotated PPIs database from http://iid.ophid.utoronto.ca/\n",
    "data = pd.read_csv('human_annotated_PPIs.txt', sep='\\t')"
   ]
  },
  {
   "cell_type": "code",
   "execution_count": null,
   "id": "accepting-filter",
   "metadata": {},
   "outputs": [],
   "source": [
    "data.head()"
   ]
  },
  {
   "cell_type": "code",
   "execution_count": null,
   "id": "handled-radius",
   "metadata": {},
   "outputs": [],
   "source": [
    "#select liver interactions\n",
    "liver_int = data.loc[data['liver'] == \"1\"]"
   ]
  },
  {
   "cell_type": "code",
   "execution_count": null,
   "id": "functional-impact",
   "metadata": {},
   "outputs": [],
   "source": [
    "#subset gene symbols\n",
    "liver_int_subset = liver_int[[\"symbol1\",\"symbol2\"]]\n",
    "liver_int_subset.to_csv('liver_PPI.txt', sep='\\t', index=False, header=None)\n",
    "liver_int_subset.head()"
   ]
  },
  {
   "cell_type": "code",
   "execution_count": null,
   "id": "raising-white",
   "metadata": {},
   "outputs": [],
   "source": [
    "#num. of interactions\n",
    "len(liver_int)"
   ]
  },
  {
   "cell_type": "code",
   "execution_count": null,
   "id": "democratic-dietary",
   "metadata": {},
   "outputs": [],
   "source": [
    "#count unique involved genes\n",
    "genes1_list = liver_int_subset[\"symbol1\"].values.tolist()\n",
    "genes2_list = liver_int_subset[\"symbol2\"].values.tolist()\n",
    "len(list(set(genes1_list + genes2_list)))\n"
   ]
  },
  {
   "cell_type": "code",
   "execution_count": null,
   "id": "occupational-ballet",
   "metadata": {},
   "outputs": [],
   "source": []
  },
  {
   "cell_type": "code",
   "execution_count": null,
   "id": "modern-coordinator",
   "metadata": {},
   "outputs": [],
   "source": []
  },
  {
   "cell_type": "code",
   "execution_count": null,
   "id": "musical-sucking",
   "metadata": {},
   "outputs": [],
   "source": []
  }
 ],
 "metadata": {
  "kernelspec": {
   "display_name": "Python 3.8.6 64-bit ('ml': conda)",
   "language": "python",
   "name": "python38664bitmlconda7b4ac6cde5954b3f8d48cd22e79fbecd"
  },
  "language_info": {
   "codemirror_mode": {
    "name": "ipython",
    "version": 3
   },
   "file_extension": ".py",
   "mimetype": "text/x-python",
   "name": "python",
   "nbconvert_exporter": "python",
   "pygments_lexer": "ipython3",
   "version": "3.8.6"
  }
 },
 "nbformat": 4,
 "nbformat_minor": 5
}
