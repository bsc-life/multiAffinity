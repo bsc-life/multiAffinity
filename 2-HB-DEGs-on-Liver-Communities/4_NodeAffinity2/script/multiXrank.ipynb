{
 "cells": [
  {
   "cell_type": "code",
   "execution_count": null,
   "source": [
    "import multixrank\n",
    "multixrank.Example().write(path=\"airport\")"
   ],
   "outputs": [],
   "metadata": {}
  }
 ],
 "metadata": {
  "orig_nbformat": 4,
  "language_info": {
   "name": "python"
  }
 },
 "nbformat": 4,
 "nbformat_minor": 2
}