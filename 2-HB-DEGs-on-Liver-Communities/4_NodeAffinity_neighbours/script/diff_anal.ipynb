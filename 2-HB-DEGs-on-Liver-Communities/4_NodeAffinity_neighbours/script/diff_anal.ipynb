{
 "metadata": {
  "language_info": {
   "codemirror_mode": {
    "name": "ipython",
    "version": 3
   },
   "file_extension": ".py",
   "mimetype": "text/x-python",
   "name": "python",
   "nbconvert_exporter": "python",
   "pygments_lexer": "ipython3",
   "version": "3.8.6"
  },
  "orig_nbformat": 4,
  "kernelspec": {
   "name": "python3",
   "display_name": "Python 3.8.6 64-bit ('ml': conda)"
  },
  "interpreter": {
   "hash": "996a7b8479c7a2f75b6f839f81d9cd861a3b9da150126ad9ca5da88c64275624"
  }
 },
 "nbformat": 4,
 "nbformat_minor": 2,
 "cells": [
  {
   "cell_type": "code",
   "execution_count": 4,
   "metadata": {},
   "outputs": [],
   "source": [
    "import os\n",
    "import pandas as pd\n",
    "import numpy as np\n",
    "from scipy import stats\n",
    "from scipy.stats import spearmanr\n",
    "\n",
    "#Load expression matrices and join\n",
    "# load all table files\n",
    "path_to_files = '1-Obtaining-DEGs-for-HB/Matrices_HB/Normalized_HB/'\n",
    "lst_expmat = []\n",
    "for filen in [x for x in os.listdir(path_to_files) if '.txt' in x]:\n",
    "    lst_expmat.append(pd.read_csv(path_to_files+filen, delimiter= \"\\t\"))\n",
    "expression_mats = pd.concat(lst_expmat, ignore_index=True)\n",
    "expression_mats = expression_mats.groupby(['Unnamed: 0']).mean().reset_index()\n",
    "\n",
    "expression_mats = expression_mats.set_index(['Unnamed: 0'])\n",
    "expression_mats = expression_mats.loc[:, ~expression_mats.columns.str.startswith('Normal')]\n",
    "expression_genes = expression_mats.mean(axis=1)\n",
    "expression_genes = pd.DataFrame(expression_genes, columns=['expression'])\n",
    "expression_genes.index.names = ['genes']\n",
    "expression_genes.drop(expression_genes.loc[expression_genes['expression']==0].index, inplace=True)"
   ]
  },
  {
   "cell_type": "code",
   "execution_count": 9,
   "metadata": {},
   "outputs": [
    {
     "output_type": "stream",
     "name": "stdout",
     "text": [
      "          expression     ADH1C\ngenes                         \nADH1B   76838.754083  0.104950\nADH1C    6434.017547  0.445265\nALDH2   21107.014854  0.074740\nCOMT     2410.164650  0.074211\nCYP2E1  87619.669883  0.059238\nGSTM1    1156.501069  0.060399\nGSTM3     578.322764  0.060399\nGSTP1    3154.388351  0.060399\nGSTT1    1124.437857  0.060399\n"
     ]
    }
   ],
   "source": [
    "#Load degs\n",
    "degs_path = '1-Obtaining-DEGs-for-HB/DEGs_HB/HB_db_DEG.csv'\n",
    "degs = pd.read_csv(degs_path, index_col=0)\n",
    "degs_names = degs.index.tolist()\n",
    "\n",
    "#Load rwr matrix\n",
    "mat_path = '2-HB-DEGs-on-Liver-Communities/4_NodeAffinity_neighbours/PTmatrix_tmp_PPI.txt'\n",
    "mat = pd.read_csv(mat_path, sep='\\t', index_col=0)\n",
    "\n",
    "#Find gene matches \n",
    "mat_names = mat.index.tolist()\n",
    "matches = list(set(degs_names).intersection(set(mat_names)))\n",
    "\n",
    "# create joined matrice\n",
    "mat_degs = mat.filter(matches, axis=1) # filter only DEGs in column\n",
    "mat_degs.index.names = ['genes']\n",
    "\n",
    "result = expression_genes.merge(mat_degs, left_index=True, right_index=True)"
   ]
  },
  {
   "cell_type": "code",
   "execution_count": 10,
   "metadata": {},
   "outputs": [
    {
     "output_type": "stream",
     "name": "stdout",
     "text": [
      "ADH1C \t 0.23500483554019208 \t 0.5427414077723169\n"
     ]
    }
   ],
   "source": [
    "corr_df = result[['expression',i]]\n",
    "corr_df.corr(method='spearman')\n",
    "print(i,'\\t',spearmanr(corr_df)[0],'\\t',spearmanr(corr_df)[1])"
   ]
  }
 ]
}