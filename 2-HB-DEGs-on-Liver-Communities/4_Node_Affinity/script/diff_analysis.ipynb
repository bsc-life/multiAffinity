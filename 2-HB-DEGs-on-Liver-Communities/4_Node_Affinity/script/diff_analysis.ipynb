{
 "metadata": {
  "language_info": {
   "codemirror_mode": {
    "name": "ipython",
    "version": 3
   },
   "file_extension": ".py",
   "mimetype": "text/x-python",
   "name": "python",
   "nbconvert_exporter": "python",
   "pygments_lexer": "ipython3",
   "version": "3.8.6"
  },
  "orig_nbformat": 4,
  "kernelspec": {
   "name": "python3",
   "display_name": "Python 3.8.6 64-bit ('ml': conda)"
  },
  "interpreter": {
   "hash": "996a7b8479c7a2f75b6f839f81d9cd861a3b9da150126ad9ca5da88c64275624"
  }
 },
 "nbformat": 4,
 "nbformat_minor": 2,
 "cells": [
  {
   "cell_type": "code",
   "execution_count": 9,
   "metadata": {},
   "outputs": [],
   "source": [
    "import os\n",
    "import pandas as pd\n",
    "import numpy as np\n",
    "from scipy import stats\n",
    "from scipy.stats import spearmanr"
   ]
  },
  {
   "cell_type": "code",
   "execution_count": 10,
   "metadata": {},
   "outputs": [],
   "source": [
    "#Load expression matrices and join\n",
    "# load all table files\n",
    "path_to_files = '/home/mar/Documents/TFM/GitHub/HB_PublicData/1-Obtaining-DEGs-for-HB/Matrices_HB/Normalized_HB/'\n",
    "lst_expmat = []\n",
    "for filen in [x for x in os.listdir(path_to_files) if '.txt' in x]:\n",
    "    lst_expmat.append(pd.read_csv(path_to_files+filen, delimiter= \"\\t\"))\n",
    "expression_mats = pd.concat(lst_expmat, ignore_index=True)\n",
    "expression_mats = expression_mats.groupby(['Unnamed: 0']).mean().reset_index()\n"
   ]
  },
  {
   "cell_type": "code",
   "execution_count": 17,
   "metadata": {},
   "outputs": [
    {
     "output_type": "execute_result",
     "data": {
      "text/plain": [
       "      Unnamed: 0     GSM4575754     GSM4575755     GSM4575756     GSM4575757  \\\n",
       "0           A1BG   93913.944468   52674.428265   83191.865441   96667.372761   \n",
       "1       A1BG-AS1     159.332525     179.221662     237.930975     149.220464   \n",
       "2           A1CF    9934.922014    5283.100104    7499.491010   11554.114357   \n",
       "3            A2M  314988.421579  157640.223109  149431.148948  306730.517680   \n",
       "4        A2M-AS1      93.443135     103.397113      69.979698     225.139648   \n",
       "...          ...            ...            ...            ...            ...   \n",
       "36325     ZYG11B     815.830446     774.985980     826.926769    1425.448118   \n",
       "36326        ZYX    5187.291972    6829.133125    6950.150378    3562.965818   \n",
       "36327      ZYXP1            NaN            NaN            NaN            NaN   \n",
       "36328      ZZEF1    1829.329063    1520.429927    1961.764211    1907.142247   \n",
       "36329       ZZZ3     846.978158     768.092839     845.588022     905.794396   \n",
       "\n",
       "          GSM4575758     GSM4575759     GSM4575760     GSM4575761  \\\n",
       "0       45192.472196   69238.719318   43760.754381   68487.976648   \n",
       "1         113.533911     315.731845      61.352703     203.891452   \n",
       "2        6755.865274    8142.483586    7033.023100   11420.714347   \n",
       "3      207867.445697  207777.038983  131848.210526  153236.994854   \n",
       "4         117.119193      97.692813      63.856895     178.754150   \n",
       "...              ...            ...            ...            ...   \n",
       "36325     899.905634     986.838995     783.812081    1453.773983   \n",
       "36326    5656.378974    2167.647778    7716.667504    2283.304959   \n",
       "36327            NaN            NaN            NaN            NaN   \n",
       "36328    1698.228295    1356.372679    1463.700197    1524.996340   \n",
       "36329     999.098420     916.047101     768.786930    1233.124330   \n",
       "\n",
       "          GSM4575762  ...    GSM2807441     GSM2807442     GSM2807443  \\\n",
       "0       54010.193374  ...  18984.131300   36996.619359   17135.071333   \n",
       "1          64.047927  ...     40.551703      26.975724      49.565201   \n",
       "2       11139.594970  ...   3799.002205   21252.179267    5449.121968   \n",
       "3      179190.680212  ...  94853.400017  304269.749361  153675.762571   \n",
       "4         166.050181  ...    115.720713      97.347179      47.277577   \n",
       "...              ...  ...           ...            ...            ...   \n",
       "36325    1171.839846  ...   1352.053115    1992.685021    1306.233688   \n",
       "36326   10157.526760  ...   2968.186831     952.360351    1682.166675   \n",
       "36327            NaN  ...           NaN            NaN            NaN   \n",
       "36328    1161.165191  ...   1273.916907     713.097406    1290.220315   \n",
       "36329     813.645885  ...   1177.977513    1722.927778    1324.534685   \n",
       "\n",
       "         GSM2807444     GSM2807445     GSM2807446    GSM2807447  \\\n",
       "0      34385.177557    4847.106458   34328.055471    269.236767   \n",
       "1         45.241274      45.941154      60.573831    156.938530   \n",
       "2      11709.346423    3397.128104   17718.710961    306.902015   \n",
       "3      97448.798424  167454.878567  181427.277793  69431.698273   \n",
       "4         38.002670     102.580934      79.611321     72.540476   \n",
       "...             ...            ...            ...           ...   \n",
       "36325   1699.262235    1212.720611    3201.759648   1549.855174   \n",
       "36326   2205.964499    1598.500442    2317.381713   4530.989743   \n",
       "36327           NaN            NaN            NaN           NaN   \n",
       "36328   1135.555966    1274.395037    1112.827813   1801.654327   \n",
       "36329   1412.432561    1125.872949    1445.118544   1297.358516   \n",
       "\n",
       "          GSM2807448    GSM2807449     GSM2807450  \n",
       "0       44519.714673  23834.045651   25284.729810  \n",
       "1          65.201161     92.023342     144.701767  \n",
       "2        9773.835085   5416.324238   10883.640045  \n",
       "3      131304.270550  68253.908765  165346.248400  \n",
       "4          99.612884     57.433008      58.751093  \n",
       "...              ...           ...            ...  \n",
       "36325    1141.020310    785.135325    1833.251710  \n",
       "36326    4770.551583   3940.687523    1590.087462  \n",
       "36327            NaN           NaN            NaN  \n",
       "36328    1278.667205   1206.745815     978.640898  \n",
       "36329     890.176956    760.334708    1260.428549  \n",
       "\n",
       "[36330 rows x 188 columns]"
      ],
      "text/html": "<div>\n<style scoped>\n    .dataframe tbody tr th:only-of-type {\n        vertical-align: middle;\n    }\n\n    .dataframe tbody tr th {\n        vertical-align: top;\n    }\n\n    .dataframe thead th {\n        text-align: right;\n    }\n</style>\n<table border=\"1\" class=\"dataframe\">\n  <thead>\n    <tr style=\"text-align: right;\">\n      <th></th>\n      <th>Unnamed: 0</th>\n      <th>GSM4575754</th>\n      <th>GSM4575755</th>\n      <th>GSM4575756</th>\n      <th>GSM4575757</th>\n      <th>GSM4575758</th>\n      <th>GSM4575759</th>\n      <th>GSM4575760</th>\n      <th>GSM4575761</th>\n      <th>GSM4575762</th>\n      <th>...</th>\n      <th>GSM2807441</th>\n      <th>GSM2807442</th>\n      <th>GSM2807443</th>\n      <th>GSM2807444</th>\n      <th>GSM2807445</th>\n      <th>GSM2807446</th>\n      <th>GSM2807447</th>\n      <th>GSM2807448</th>\n      <th>GSM2807449</th>\n      <th>GSM2807450</th>\n    </tr>\n  </thead>\n  <tbody>\n    <tr>\n      <th>0</th>\n      <td>A1BG</td>\n      <td>93913.944468</td>\n      <td>52674.428265</td>\n      <td>83191.865441</td>\n      <td>96667.372761</td>\n      <td>45192.472196</td>\n      <td>69238.719318</td>\n      <td>43760.754381</td>\n      <td>68487.976648</td>\n      <td>54010.193374</td>\n      <td>...</td>\n      <td>18984.131300</td>\n      <td>36996.619359</td>\n      <td>17135.071333</td>\n      <td>34385.177557</td>\n      <td>4847.106458</td>\n      <td>34328.055471</td>\n      <td>269.236767</td>\n      <td>44519.714673</td>\n      <td>23834.045651</td>\n      <td>25284.729810</td>\n    </tr>\n    <tr>\n      <th>1</th>\n      <td>A1BG-AS1</td>\n      <td>159.332525</td>\n      <td>179.221662</td>\n      <td>237.930975</td>\n      <td>149.220464</td>\n      <td>113.533911</td>\n      <td>315.731845</td>\n      <td>61.352703</td>\n      <td>203.891452</td>\n      <td>64.047927</td>\n      <td>...</td>\n      <td>40.551703</td>\n      <td>26.975724</td>\n      <td>49.565201</td>\n      <td>45.241274</td>\n      <td>45.941154</td>\n      <td>60.573831</td>\n      <td>156.938530</td>\n      <td>65.201161</td>\n      <td>92.023342</td>\n      <td>144.701767</td>\n    </tr>\n    <tr>\n      <th>2</th>\n      <td>A1CF</td>\n      <td>9934.922014</td>\n      <td>5283.100104</td>\n      <td>7499.491010</td>\n      <td>11554.114357</td>\n      <td>6755.865274</td>\n      <td>8142.483586</td>\n      <td>7033.023100</td>\n      <td>11420.714347</td>\n      <td>11139.594970</td>\n      <td>...</td>\n      <td>3799.002205</td>\n      <td>21252.179267</td>\n      <td>5449.121968</td>\n      <td>11709.346423</td>\n      <td>3397.128104</td>\n      <td>17718.710961</td>\n      <td>306.902015</td>\n      <td>9773.835085</td>\n      <td>5416.324238</td>\n      <td>10883.640045</td>\n    </tr>\n    <tr>\n      <th>3</th>\n      <td>A2M</td>\n      <td>314988.421579</td>\n      <td>157640.223109</td>\n      <td>149431.148948</td>\n      <td>306730.517680</td>\n      <td>207867.445697</td>\n      <td>207777.038983</td>\n      <td>131848.210526</td>\n      <td>153236.994854</td>\n      <td>179190.680212</td>\n      <td>...</td>\n      <td>94853.400017</td>\n      <td>304269.749361</td>\n      <td>153675.762571</td>\n      <td>97448.798424</td>\n      <td>167454.878567</td>\n      <td>181427.277793</td>\n      <td>69431.698273</td>\n      <td>131304.270550</td>\n      <td>68253.908765</td>\n      <td>165346.248400</td>\n    </tr>\n    <tr>\n      <th>4</th>\n      <td>A2M-AS1</td>\n      <td>93.443135</td>\n      <td>103.397113</td>\n      <td>69.979698</td>\n      <td>225.139648</td>\n      <td>117.119193</td>\n      <td>97.692813</td>\n      <td>63.856895</td>\n      <td>178.754150</td>\n      <td>166.050181</td>\n      <td>...</td>\n      <td>115.720713</td>\n      <td>97.347179</td>\n      <td>47.277577</td>\n      <td>38.002670</td>\n      <td>102.580934</td>\n      <td>79.611321</td>\n      <td>72.540476</td>\n      <td>99.612884</td>\n      <td>57.433008</td>\n      <td>58.751093</td>\n    </tr>\n    <tr>\n      <th>...</th>\n      <td>...</td>\n      <td>...</td>\n      <td>...</td>\n      <td>...</td>\n      <td>...</td>\n      <td>...</td>\n      <td>...</td>\n      <td>...</td>\n      <td>...</td>\n      <td>...</td>\n      <td>...</td>\n      <td>...</td>\n      <td>...</td>\n      <td>...</td>\n      <td>...</td>\n      <td>...</td>\n      <td>...</td>\n      <td>...</td>\n      <td>...</td>\n      <td>...</td>\n      <td>...</td>\n    </tr>\n    <tr>\n      <th>36325</th>\n      <td>ZYG11B</td>\n      <td>815.830446</td>\n      <td>774.985980</td>\n      <td>826.926769</td>\n      <td>1425.448118</td>\n      <td>899.905634</td>\n      <td>986.838995</td>\n      <td>783.812081</td>\n      <td>1453.773983</td>\n      <td>1171.839846</td>\n      <td>...</td>\n      <td>1352.053115</td>\n      <td>1992.685021</td>\n      <td>1306.233688</td>\n      <td>1699.262235</td>\n      <td>1212.720611</td>\n      <td>3201.759648</td>\n      <td>1549.855174</td>\n      <td>1141.020310</td>\n      <td>785.135325</td>\n      <td>1833.251710</td>\n    </tr>\n    <tr>\n      <th>36326</th>\n      <td>ZYX</td>\n      <td>5187.291972</td>\n      <td>6829.133125</td>\n      <td>6950.150378</td>\n      <td>3562.965818</td>\n      <td>5656.378974</td>\n      <td>2167.647778</td>\n      <td>7716.667504</td>\n      <td>2283.304959</td>\n      <td>10157.526760</td>\n      <td>...</td>\n      <td>2968.186831</td>\n      <td>952.360351</td>\n      <td>1682.166675</td>\n      <td>2205.964499</td>\n      <td>1598.500442</td>\n      <td>2317.381713</td>\n      <td>4530.989743</td>\n      <td>4770.551583</td>\n      <td>3940.687523</td>\n      <td>1590.087462</td>\n    </tr>\n    <tr>\n      <th>36327</th>\n      <td>ZYXP1</td>\n      <td>NaN</td>\n      <td>NaN</td>\n      <td>NaN</td>\n      <td>NaN</td>\n      <td>NaN</td>\n      <td>NaN</td>\n      <td>NaN</td>\n      <td>NaN</td>\n      <td>NaN</td>\n      <td>...</td>\n      <td>NaN</td>\n      <td>NaN</td>\n      <td>NaN</td>\n      <td>NaN</td>\n      <td>NaN</td>\n      <td>NaN</td>\n      <td>NaN</td>\n      <td>NaN</td>\n      <td>NaN</td>\n      <td>NaN</td>\n    </tr>\n    <tr>\n      <th>36328</th>\n      <td>ZZEF1</td>\n      <td>1829.329063</td>\n      <td>1520.429927</td>\n      <td>1961.764211</td>\n      <td>1907.142247</td>\n      <td>1698.228295</td>\n      <td>1356.372679</td>\n      <td>1463.700197</td>\n      <td>1524.996340</td>\n      <td>1161.165191</td>\n      <td>...</td>\n      <td>1273.916907</td>\n      <td>713.097406</td>\n      <td>1290.220315</td>\n      <td>1135.555966</td>\n      <td>1274.395037</td>\n      <td>1112.827813</td>\n      <td>1801.654327</td>\n      <td>1278.667205</td>\n      <td>1206.745815</td>\n      <td>978.640898</td>\n    </tr>\n    <tr>\n      <th>36329</th>\n      <td>ZZZ3</td>\n      <td>846.978158</td>\n      <td>768.092839</td>\n      <td>845.588022</td>\n      <td>905.794396</td>\n      <td>999.098420</td>\n      <td>916.047101</td>\n      <td>768.786930</td>\n      <td>1233.124330</td>\n      <td>813.645885</td>\n      <td>...</td>\n      <td>1177.977513</td>\n      <td>1722.927778</td>\n      <td>1324.534685</td>\n      <td>1412.432561</td>\n      <td>1125.872949</td>\n      <td>1445.118544</td>\n      <td>1297.358516</td>\n      <td>890.176956</td>\n      <td>760.334708</td>\n      <td>1260.428549</td>\n    </tr>\n  </tbody>\n</table>\n<p>36330 rows × 188 columns</p>\n</div>"
     },
     "metadata": {},
     "execution_count": 17
    }
   ],
   "source": [
    "expression_mats"
   ]
  },
  {
   "cell_type": "code",
   "execution_count": 11,
   "metadata": {},
   "outputs": [],
   "source": [
    "\n",
    "#Load degs\n",
    "degs_path = '/home/mar/Documents/TFM/GitHub/HB_PublicData/1-Obtaining-DEGs-for-HB/DEGs_HB/HB_db_DEG.csv'\n",
    "degs = pd.read_csv(degs_path, index_col=0)\n",
    "degs_names = degs.index.tolist()\n",
    "\n"
   ]
  },
  {
   "cell_type": "code",
   "execution_count": 12,
   "metadata": {},
   "outputs": [],
   "source": [
    "#Load rwr matrice\n",
    "mat_path = '/home/mar/Documents/TFM/GitHub/HB_PublicData/2-HB-DEGs-on-Liver-Communities/4_Node_Affinity/output/PTmatrix_liver_PPI.txt'\n",
    "mat = pd.read_csv(mat_path, sep='\\t', index_col=0)\n"
   ]
  },
  {
   "cell_type": "code",
   "execution_count": 13,
   "metadata": {},
   "outputs": [],
   "source": [
    "#Find gene matches \n",
    "mat_names = mat.index.tolist()\n",
    "matches = list(set(degs_names).intersection(set(mat_names)))"
   ]
  },
  {
   "cell_type": "code",
   "execution_count": 15,
   "metadata": {},
   "outputs": [],
   "source": [
    "# create joined matrice\n",
    "mat_degs = mat.filter(matches, axis=1) # filter only DEGs in column"
   ]
  },
  {
   "cell_type": "code",
   "execution_count": 16,
   "metadata": {},
   "outputs": [
    {
     "output_type": "execute_result",
     "data": {
      "text/plain": [
       "              AFP     CLRN3     PRSS2     ADH1C     STRA6    CYP2B6     TTC36  \\\n",
       "CNBP     0.000014  0.000000  0.000016  0.000004  0.000002  0.000003  0.000003   \n",
       "HNRNPAB  0.000023  0.000002  0.000014  0.000006  0.000004  0.000005  0.000004   \n",
       "RPL10A   0.000025  0.000002  0.000012  0.000005  0.000004  0.000004  0.000004   \n",
       "CENPN    0.000025  0.000000  0.000004  0.000003  0.000003  0.000002  0.000000   \n",
       "RSL24D1  0.000006  0.000000  0.000003  0.000002  0.000000  0.000002  0.000000   \n",
       "...           ...       ...       ...       ...       ...       ...       ...   \n",
       "PJVK     0.000000  0.000000  0.000000  0.000000  0.000000  0.000000  0.000000   \n",
       "MAMSTR   0.000000  0.000000  0.000000  0.000000  0.000000  0.000000  0.000000   \n",
       "SLC6A16  0.000000  0.000000  0.000000  0.000000  0.000000  0.000000  0.000000   \n",
       "SLC6A17  0.000000  0.000000  0.000000  0.000000  0.000000  0.000000  0.000000   \n",
       "SRGAP2C  0.000000  0.000000  0.000000  0.000000  0.000000  0.000000  0.000000   \n",
       "\n",
       "             MT1X      BCO2       SST  ...      NRG1      CST4     TINAG  \\\n",
       "CNBP     0.000010  0.000000  0.000003  ...  0.000008  0.000027  0.000019   \n",
       "HNRNPAB  0.000008  0.000003  0.000005  ...  0.000011  0.000021  0.000024   \n",
       "RPL10A   0.000027  0.000002  0.000006  ...  0.000010  0.000016  0.000013   \n",
       "CENPN    0.000004  0.000000  0.000003  ...  0.000007  0.000030  0.000005   \n",
       "RSL24D1  0.000006  0.000000  0.000001  ...  0.000005  0.000008  0.000005   \n",
       "...           ...       ...       ...  ...       ...       ...       ...   \n",
       "PJVK     0.000000  0.000000  0.000000  ...  0.000000  0.000000  0.000000   \n",
       "MAMSTR   0.000000  0.000000  0.000000  ...  0.000000  0.000000  0.000000   \n",
       "SLC6A16  0.000000  0.000000  0.000000  ...  0.000000  0.000000  0.000000   \n",
       "SLC6A17  0.000000  0.000000  0.000000  ...  0.000000  0.000000  0.000000   \n",
       "SRGAP2C  0.000000  0.000000  0.000000  ...  0.000000  0.000000  0.000000   \n",
       "\n",
       "             CCNO       SDS      MT1G    CYP2A6    SLC1A1      PENK      CSN2  \n",
       "CNBP     0.000016  0.000005  0.000006  0.000006  0.000007  0.000007  0.000020  \n",
       "HNRNPAB  0.000041  0.000016  0.000005  0.000011  0.000009  0.000008  0.000027  \n",
       "RPL10A   0.000018  0.000008  0.000007  0.000007  0.000017  0.000007  0.000024  \n",
       "CENPN    0.000058  0.000005  0.000003  0.000004  0.000004  0.000023  0.000012  \n",
       "RSL24D1  0.000007  0.000004  0.000003  0.000003  0.000007  0.000019  0.000008  \n",
       "...           ...       ...       ...       ...       ...       ...       ...  \n",
       "PJVK     0.000000  0.000000  0.000000  0.000000  0.000000  0.000000  0.000000  \n",
       "MAMSTR   0.000000  0.000000  0.000000  0.000000  0.000000  0.000000  0.000000  \n",
       "SLC6A16  0.000000  0.000000  0.000000  0.000000  0.000000  0.000000  0.000000  \n",
       "SLC6A17  0.000000  0.000000  0.000000  0.000000  0.000000  0.000000  0.000000  \n",
       "SRGAP2C  0.000000  0.000000  0.000000  0.000000  0.000000  0.000000  0.000000  \n",
       "\n",
       "[11729 rows x 60 columns]"
      ],
      "text/html": "<div>\n<style scoped>\n    .dataframe tbody tr th:only-of-type {\n        vertical-align: middle;\n    }\n\n    .dataframe tbody tr th {\n        vertical-align: top;\n    }\n\n    .dataframe thead th {\n        text-align: right;\n    }\n</style>\n<table border=\"1\" class=\"dataframe\">\n  <thead>\n    <tr style=\"text-align: right;\">\n      <th></th>\n      <th>AFP</th>\n      <th>CLRN3</th>\n      <th>PRSS2</th>\n      <th>ADH1C</th>\n      <th>STRA6</th>\n      <th>CYP2B6</th>\n      <th>TTC36</th>\n      <th>MT1X</th>\n      <th>BCO2</th>\n      <th>SST</th>\n      <th>...</th>\n      <th>NRG1</th>\n      <th>CST4</th>\n      <th>TINAG</th>\n      <th>CCNO</th>\n      <th>SDS</th>\n      <th>MT1G</th>\n      <th>CYP2A6</th>\n      <th>SLC1A1</th>\n      <th>PENK</th>\n      <th>CSN2</th>\n    </tr>\n  </thead>\n  <tbody>\n    <tr>\n      <th>CNBP</th>\n      <td>0.000014</td>\n      <td>0.000000</td>\n      <td>0.000016</td>\n      <td>0.000004</td>\n      <td>0.000002</td>\n      <td>0.000003</td>\n      <td>0.000003</td>\n      <td>0.000010</td>\n      <td>0.000000</td>\n      <td>0.000003</td>\n      <td>...</td>\n      <td>0.000008</td>\n      <td>0.000027</td>\n      <td>0.000019</td>\n      <td>0.000016</td>\n      <td>0.000005</td>\n      <td>0.000006</td>\n      <td>0.000006</td>\n      <td>0.000007</td>\n      <td>0.000007</td>\n      <td>0.000020</td>\n    </tr>\n    <tr>\n      <th>HNRNPAB</th>\n      <td>0.000023</td>\n      <td>0.000002</td>\n      <td>0.000014</td>\n      <td>0.000006</td>\n      <td>0.000004</td>\n      <td>0.000005</td>\n      <td>0.000004</td>\n      <td>0.000008</td>\n      <td>0.000003</td>\n      <td>0.000005</td>\n      <td>...</td>\n      <td>0.000011</td>\n      <td>0.000021</td>\n      <td>0.000024</td>\n      <td>0.000041</td>\n      <td>0.000016</td>\n      <td>0.000005</td>\n      <td>0.000011</td>\n      <td>0.000009</td>\n      <td>0.000008</td>\n      <td>0.000027</td>\n    </tr>\n    <tr>\n      <th>RPL10A</th>\n      <td>0.000025</td>\n      <td>0.000002</td>\n      <td>0.000012</td>\n      <td>0.000005</td>\n      <td>0.000004</td>\n      <td>0.000004</td>\n      <td>0.000004</td>\n      <td>0.000027</td>\n      <td>0.000002</td>\n      <td>0.000006</td>\n      <td>...</td>\n      <td>0.000010</td>\n      <td>0.000016</td>\n      <td>0.000013</td>\n      <td>0.000018</td>\n      <td>0.000008</td>\n      <td>0.000007</td>\n      <td>0.000007</td>\n      <td>0.000017</td>\n      <td>0.000007</td>\n      <td>0.000024</td>\n    </tr>\n    <tr>\n      <th>CENPN</th>\n      <td>0.000025</td>\n      <td>0.000000</td>\n      <td>0.000004</td>\n      <td>0.000003</td>\n      <td>0.000003</td>\n      <td>0.000002</td>\n      <td>0.000000</td>\n      <td>0.000004</td>\n      <td>0.000000</td>\n      <td>0.000003</td>\n      <td>...</td>\n      <td>0.000007</td>\n      <td>0.000030</td>\n      <td>0.000005</td>\n      <td>0.000058</td>\n      <td>0.000005</td>\n      <td>0.000003</td>\n      <td>0.000004</td>\n      <td>0.000004</td>\n      <td>0.000023</td>\n      <td>0.000012</td>\n    </tr>\n    <tr>\n      <th>RSL24D1</th>\n      <td>0.000006</td>\n      <td>0.000000</td>\n      <td>0.000003</td>\n      <td>0.000002</td>\n      <td>0.000000</td>\n      <td>0.000002</td>\n      <td>0.000000</td>\n      <td>0.000006</td>\n      <td>0.000000</td>\n      <td>0.000001</td>\n      <td>...</td>\n      <td>0.000005</td>\n      <td>0.000008</td>\n      <td>0.000005</td>\n      <td>0.000007</td>\n      <td>0.000004</td>\n      <td>0.000003</td>\n      <td>0.000003</td>\n      <td>0.000007</td>\n      <td>0.000019</td>\n      <td>0.000008</td>\n    </tr>\n    <tr>\n      <th>...</th>\n      <td>...</td>\n      <td>...</td>\n      <td>...</td>\n      <td>...</td>\n      <td>...</td>\n      <td>...</td>\n      <td>...</td>\n      <td>...</td>\n      <td>...</td>\n      <td>...</td>\n      <td>...</td>\n      <td>...</td>\n      <td>...</td>\n      <td>...</td>\n      <td>...</td>\n      <td>...</td>\n      <td>...</td>\n      <td>...</td>\n      <td>...</td>\n      <td>...</td>\n      <td>...</td>\n    </tr>\n    <tr>\n      <th>PJVK</th>\n      <td>0.000000</td>\n      <td>0.000000</td>\n      <td>0.000000</td>\n      <td>0.000000</td>\n      <td>0.000000</td>\n      <td>0.000000</td>\n      <td>0.000000</td>\n      <td>0.000000</td>\n      <td>0.000000</td>\n      <td>0.000000</td>\n      <td>...</td>\n      <td>0.000000</td>\n      <td>0.000000</td>\n      <td>0.000000</td>\n      <td>0.000000</td>\n      <td>0.000000</td>\n      <td>0.000000</td>\n      <td>0.000000</td>\n      <td>0.000000</td>\n      <td>0.000000</td>\n      <td>0.000000</td>\n    </tr>\n    <tr>\n      <th>MAMSTR</th>\n      <td>0.000000</td>\n      <td>0.000000</td>\n      <td>0.000000</td>\n      <td>0.000000</td>\n      <td>0.000000</td>\n      <td>0.000000</td>\n      <td>0.000000</td>\n      <td>0.000000</td>\n      <td>0.000000</td>\n      <td>0.000000</td>\n      <td>...</td>\n      <td>0.000000</td>\n      <td>0.000000</td>\n      <td>0.000000</td>\n      <td>0.000000</td>\n      <td>0.000000</td>\n      <td>0.000000</td>\n      <td>0.000000</td>\n      <td>0.000000</td>\n      <td>0.000000</td>\n      <td>0.000000</td>\n    </tr>\n    <tr>\n      <th>SLC6A16</th>\n      <td>0.000000</td>\n      <td>0.000000</td>\n      <td>0.000000</td>\n      <td>0.000000</td>\n      <td>0.000000</td>\n      <td>0.000000</td>\n      <td>0.000000</td>\n      <td>0.000000</td>\n      <td>0.000000</td>\n      <td>0.000000</td>\n      <td>...</td>\n      <td>0.000000</td>\n      <td>0.000000</td>\n      <td>0.000000</td>\n      <td>0.000000</td>\n      <td>0.000000</td>\n      <td>0.000000</td>\n      <td>0.000000</td>\n      <td>0.000000</td>\n      <td>0.000000</td>\n      <td>0.000000</td>\n    </tr>\n    <tr>\n      <th>SLC6A17</th>\n      <td>0.000000</td>\n      <td>0.000000</td>\n      <td>0.000000</td>\n      <td>0.000000</td>\n      <td>0.000000</td>\n      <td>0.000000</td>\n      <td>0.000000</td>\n      <td>0.000000</td>\n      <td>0.000000</td>\n      <td>0.000000</td>\n      <td>...</td>\n      <td>0.000000</td>\n      <td>0.000000</td>\n      <td>0.000000</td>\n      <td>0.000000</td>\n      <td>0.000000</td>\n      <td>0.000000</td>\n      <td>0.000000</td>\n      <td>0.000000</td>\n      <td>0.000000</td>\n      <td>0.000000</td>\n    </tr>\n    <tr>\n      <th>SRGAP2C</th>\n      <td>0.000000</td>\n      <td>0.000000</td>\n      <td>0.000000</td>\n      <td>0.000000</td>\n      <td>0.000000</td>\n      <td>0.000000</td>\n      <td>0.000000</td>\n      <td>0.000000</td>\n      <td>0.000000</td>\n      <td>0.000000</td>\n      <td>...</td>\n      <td>0.000000</td>\n      <td>0.000000</td>\n      <td>0.000000</td>\n      <td>0.000000</td>\n      <td>0.000000</td>\n      <td>0.000000</td>\n      <td>0.000000</td>\n      <td>0.000000</td>\n      <td>0.000000</td>\n      <td>0.000000</td>\n    </tr>\n  </tbody>\n</table>\n<p>11729 rows × 60 columns</p>\n</div>"
     },
     "metadata": {},
     "execution_count": 16
    }
   ],
   "source": [
    "mat_degs "
   ]
  },
  {
   "cell_type": "code",
   "execution_count": null,
   "metadata": {},
   "outputs": [],
   "source": [
    "mat_degs = mat_degs[mat_degs.index.isin(matches)]\n",
    "mat_degs = mat_degs.rename_axis('Name')\n",
    "result = pd.merge(degs, mat_degs,on='Name', how='right')\n",
    "result = result.groupby('Name').mean()"
   ]
  }
 ]
}